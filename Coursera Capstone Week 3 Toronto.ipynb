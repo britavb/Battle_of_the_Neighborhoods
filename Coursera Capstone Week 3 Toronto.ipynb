{
 "cells": [
  {
   "cell_type": "markdown",
   "metadata": {},
   "source": [
    "# Coursera Capstone Week 3 Toronto\n",
    "\n",
    "## Basic Instructions\n",
    "\n",
    "In this assignment, you will be required to explore, segment, and cluster the neighborhoods in the city of Toronto based on the postalcode and borough information.. However, unlike New York, the neighborhood data is not readily available on the internet. What is interesting about the field of data science is that each project can be challenging in its unique way, so you need to learn to be agile and refine the skill to learn new libraries and tools quickly depending on the project.\n",
    "\n",
    "For the Toronto neighborhood data, a Wikipedia page exists that has all the information we need to explore and cluster the neighborhoods in Toronto. You will be required to scrape the Wikipedia page and wrangle the data, clean it, and then read it into a pandas  dataframe so that it is in a structured format like the New York dataset.\n",
    "\n",
    "Once the data is in a structured format, you can replicate the analysis that we did to the New York City dataset to explore and cluster the neighborhoods in the city of Toronto."
   ]
  },
  {
   "cell_type": "markdown",
   "metadata": {},
   "source": [
    "## Import all Libraries for this Assignment"
   ]
  },
  {
   "cell_type": "code",
   "execution_count": 86,
   "metadata": {
    "ExecuteTime": {
     "end_time": "2021-05-03T17:03:48.249518Z",
     "start_time": "2021-05-03T17:03:48.027406Z"
    }
   },
   "outputs": [
    {
     "name": "stdout",
     "output_type": "stream",
     "text": [
      "Libraries imported\n"
     ]
    }
   ],
   "source": [
    "import pandas as pd\n",
    "# for webscraping\n",
    "import requests\n",
    "from bs4 import BeautifulSoup\n",
    "# for getting location data\n",
    "import geocoder\n",
    "# for breaking out of loop\n",
    "import time\n",
    "# for generating and displaying maps\n",
    "import folium\n",
    "import matplotlib.cm as cm\n",
    "import matplotlib.colors as colors\n",
    "# for performing clustering\n",
    "from sklearn.cluster import KMeans\n",
    "import matplotlib.pyplot as plt\n",
    "\n",
    "print('Libraries imported')"
   ]
  },
  {
   "cell_type": "markdown",
   "metadata": {},
   "source": [
    "## Toronto Neighborhoods\n",
    "\n",
    "### Scrape Relevant Data from the Internet"
   ]
  },
  {
   "cell_type": "code",
   "execution_count": 2,
   "metadata": {
    "ExecuteTime": {
     "end_time": "2021-05-03T15:21:08.707512Z",
     "start_time": "2021-05-03T15:21:07.777544Z"
    }
   },
   "outputs": [
    {
     "name": "stdout",
     "output_type": "stream",
     "text": [
      "16991 characters scraped from https://en.wikipedia.org/wiki/List_of_postal_codes_of_Canada:_M\n"
     ]
    }
   ],
   "source": [
    "url = 'https://en.wikipedia.org/wiki/List_of_postal_codes_of_Canada:_M'\n",
    "html = requests.get(url).text\n",
    "soup = BeautifulSoup(html, 'html5lib')\n",
    "chars_scraped = len(soup.get_text())\n",
    "if chars_scraped > 0:\n",
    "    print(chars_scraped, 'characters scraped from', url)\n",
    "else:\n",
    "    print('empty document!!!')"
   ]
  },
  {
   "cell_type": "markdown",
   "metadata": {
    "ExecuteTime": {
     "end_time": "2021-04-18T09:06:17.783339Z",
     "start_time": "2021-04-18T09:06:17.771736Z"
    }
   },
   "source": [
    "### Get Relevant Data from Scraped Website\n",
    "\n",
    "Postal Codes and Neighborhood Names are stored in a table."
   ]
  },
  {
   "cell_type": "code",
   "execution_count": 3,
   "metadata": {
    "ExecuteTime": {
     "end_time": "2021-05-03T15:21:08.781030Z",
     "start_time": "2021-05-03T15:21:08.712425Z"
    }
   },
   "outputs": [
    {
     "name": "stdout",
     "output_type": "stream",
     "text": [
      "There are 3 tables on this webpage.\n",
      " \n",
      "---------- table index 0----------\n",
      " \n",
      "<table cellpadding=\"2\" cellspacing=\"0\" rules=\"all\" style=\"width:100%; border-collapse:collapse; border:1px solid #ccc;\">\n",
      "\n",
      "<tbody><tr>\n",
      "<td style=\"width:11%; vertical-align:top; color:#ccc;\">\n",
      "<p><b>M1A</b><br/><span style=\"font-size:85%;\"><i>Not assign\n",
      " \n",
      "---------- table index 1----------\n",
      " \n",
      "<table class=\"navbox\">\n",
      "<tbody><tr>\n",
      "<td style=\"width:36px; text-align:center\"><a class=\"image\" href=\"/wiki/File:Flag_of_Canada.svg\" title=\"Flag of Canada\"><img alt=\"Flag of Canada\" data-file-height=\"600\" data-file-width=\"1200\" decoding=\"async\" height=\n",
      " \n",
      "---------- table index 2----------\n",
      " \n",
      "<table cellspacing=\"0\" style=\"background-color: #F8F8F8;\" width=\"100%\">\n",
      "<tbody><tr>\n",
      "<td style=\"text-align:center; border:1px solid #aaa;\"><a href=\"/wiki/Newfoundland_and_Labrador\" title=\"Newfoundland and Labrador\">NL</a>\n",
      "</td>\n",
      "<td style=\"text-align:c\n"
     ]
    }
   ],
   "source": [
    "tables = soup.find_all('table')\n",
    "print('There are', len(tables), 'tables on this webpage.')\n",
    "# print first 250 characters of each table to identify the correct table\n",
    "for index, table in enumerate(tables):\n",
    "    print(' ', '---------- table index ' + str(index) + '----------',\n",
    "          ' ', str(table)[:250], sep='\\n')"
   ]
  },
  {
   "cell_type": "markdown",
   "metadata": {},
   "source": [
    "For getting postal codes, boroughs and neighborhood names the first table is needed as can be seen by `<p><b>M1A</b><br/><span style=\"font-size:85%;\"><i>Not assign`. M1A is the postal code in this example."
   ]
  },
  {
   "cell_type": "code",
   "execution_count": 4,
   "metadata": {
    "ExecuteTime": {
     "end_time": "2021-05-03T15:21:08.835376Z",
     "start_time": "2021-05-03T15:21:08.784974Z"
    }
   },
   "outputs": [
    {
     "name": "stdout",
     "output_type": "stream",
     "text": [
      "180 cells were found in this table\n",
      "---------- 5. element of 1. row ----------\n",
      "['M5A', 'Downtown Toronto(Regent Park / Harbourfront)']\n"
     ]
    }
   ],
   "source": [
    "all_table_rows = []\n",
    "\n",
    "for row in tables[0].tbody.find_all('tr'):\n",
    "    for cells in row.find_all('td'):\n",
    "        all_table_rows.append([cells.find('b').get_text(), cells.find('span').get_text()])\n",
    "\n",
    "print(len(all_table_rows), 'cells were found in this table')\n",
    "print('---------- 5. element of 1. row ----------')\n",
    "print(all_table_rows[4])"
   ]
  },
  {
   "cell_type": "code",
   "execution_count": 5,
   "metadata": {
    "ExecuteTime": {
     "end_time": "2021-05-03T15:21:08.878203Z",
     "start_time": "2021-05-03T15:21:08.838282Z"
    }
   },
   "outputs": [
    {
     "data": {
      "text/html": [
       "<div>\n",
       "<style scoped>\n",
       "    .dataframe tbody tr th:only-of-type {\n",
       "        vertical-align: middle;\n",
       "    }\n",
       "\n",
       "    .dataframe tbody tr th {\n",
       "        vertical-align: top;\n",
       "    }\n",
       "\n",
       "    .dataframe thead th {\n",
       "        text-align: right;\n",
       "    }\n",
       "</style>\n",
       "<table border=\"1\" class=\"dataframe\">\n",
       "  <thead>\n",
       "    <tr style=\"text-align: right;\">\n",
       "      <th></th>\n",
       "      <th>0</th>\n",
       "      <th>1</th>\n",
       "    </tr>\n",
       "  </thead>\n",
       "  <tbody>\n",
       "    <tr>\n",
       "      <th>0</th>\n",
       "      <td>M1A</td>\n",
       "      <td>Not assigned</td>\n",
       "    </tr>\n",
       "    <tr>\n",
       "      <th>1</th>\n",
       "      <td>M2A</td>\n",
       "      <td>Not assigned</td>\n",
       "    </tr>\n",
       "    <tr>\n",
       "      <th>2</th>\n",
       "      <td>M3A</td>\n",
       "      <td>North York(Parkwoods)</td>\n",
       "    </tr>\n",
       "    <tr>\n",
       "      <th>3</th>\n",
       "      <td>M4A</td>\n",
       "      <td>North York(Victoria Village)</td>\n",
       "    </tr>\n",
       "    <tr>\n",
       "      <th>4</th>\n",
       "      <td>M5A</td>\n",
       "      <td>Downtown Toronto(Regent Park / Harbourfront)</td>\n",
       "    </tr>\n",
       "  </tbody>\n",
       "</table>\n",
       "</div>"
      ],
      "text/plain": [
       "     0                                             1\n",
       "0  M1A                                  Not assigned\n",
       "1  M2A                                  Not assigned\n",
       "2  M3A                         North York(Parkwoods)\n",
       "3  M4A                  North York(Victoria Village)\n",
       "4  M5A  Downtown Toronto(Regent Park / Harbourfront)"
      ]
     },
     "metadata": {},
     "output_type": "display_data"
    }
   ],
   "source": [
    "df = pd.DataFrame(all_table_rows)\n",
    "display(df.head())"
   ]
  },
  {
   "cell_type": "markdown",
   "metadata": {
    "ExecuteTime": {
     "end_time": "2021-04-18T09:13:33.703574Z",
     "start_time": "2021-04-18T09:13:33.686088Z"
    }
   },
   "source": [
    "### Clean the DataFrame"
   ]
  },
  {
   "cell_type": "code",
   "execution_count": 6,
   "metadata": {
    "ExecuteTime": {
     "end_time": "2021-05-03T15:21:08.990913Z",
     "start_time": "2021-05-03T15:21:08.881880Z"
    }
   },
   "outputs": [
    {
     "data": {
      "text/html": [
       "<div>\n",
       "<style scoped>\n",
       "    .dataframe tbody tr th:only-of-type {\n",
       "        vertical-align: middle;\n",
       "    }\n",
       "\n",
       "    .dataframe tbody tr th {\n",
       "        vertical-align: top;\n",
       "    }\n",
       "\n",
       "    .dataframe thead th {\n",
       "        text-align: right;\n",
       "    }\n",
       "</style>\n",
       "<table border=\"1\" class=\"dataframe\">\n",
       "  <thead>\n",
       "    <tr style=\"text-align: right;\">\n",
       "      <th></th>\n",
       "      <th>0</th>\n",
       "      <th>1</th>\n",
       "    </tr>\n",
       "  </thead>\n",
       "  <tbody>\n",
       "    <tr>\n",
       "      <th>count</th>\n",
       "      <td>180</td>\n",
       "      <td>180</td>\n",
       "    </tr>\n",
       "    <tr>\n",
       "      <th>unique</th>\n",
       "      <td>180</td>\n",
       "      <td>104</td>\n",
       "    </tr>\n",
       "    <tr>\n",
       "      <th>top</th>\n",
       "      <td>M9X</td>\n",
       "      <td>Not assigned</td>\n",
       "    </tr>\n",
       "    <tr>\n",
       "      <th>freq</th>\n",
       "      <td>1</td>\n",
       "      <td>77</td>\n",
       "    </tr>\n",
       "  </tbody>\n",
       "</table>\n",
       "</div>"
      ],
      "text/plain": [
       "          0             1\n",
       "count   180           180\n",
       "unique  180           104\n",
       "top     M9X  Not assigned\n",
       "freq      1            77"
      ]
     },
     "metadata": {},
     "output_type": "display_data"
    },
    {
     "data": {
      "text/html": [
       "<div>\n",
       "<style scoped>\n",
       "    .dataframe tbody tr th:only-of-type {\n",
       "        vertical-align: middle;\n",
       "    }\n",
       "\n",
       "    .dataframe tbody tr th {\n",
       "        vertical-align: top;\n",
       "    }\n",
       "\n",
       "    .dataframe thead th {\n",
       "        text-align: right;\n",
       "    }\n",
       "</style>\n",
       "<table border=\"1\" class=\"dataframe\">\n",
       "  <thead>\n",
       "    <tr style=\"text-align: right;\">\n",
       "      <th></th>\n",
       "      <th>PostalCode</th>\n",
       "      <th>Borough</th>\n",
       "      <th>Neighborhood</th>\n",
       "    </tr>\n",
       "  </thead>\n",
       "  <tbody>\n",
       "    <tr>\n",
       "      <th>2</th>\n",
       "      <td>M3A</td>\n",
       "      <td>North York</td>\n",
       "      <td>Parkwoods</td>\n",
       "    </tr>\n",
       "    <tr>\n",
       "      <th>3</th>\n",
       "      <td>M4A</td>\n",
       "      <td>North York</td>\n",
       "      <td>Victoria Village</td>\n",
       "    </tr>\n",
       "    <tr>\n",
       "      <th>4</th>\n",
       "      <td>M5A</td>\n",
       "      <td>Downtown Toronto</td>\n",
       "      <td>Regent Park, Harbourfront</td>\n",
       "    </tr>\n",
       "    <tr>\n",
       "      <th>5</th>\n",
       "      <td>M6A</td>\n",
       "      <td>North York</td>\n",
       "      <td>Lawrence Manor, Lawrence Heights</td>\n",
       "    </tr>\n",
       "    <tr>\n",
       "      <th>6</th>\n",
       "      <td>M7A</td>\n",
       "      <td>Queen's Park</td>\n",
       "      <td>Ontario Provincial Government</td>\n",
       "    </tr>\n",
       "  </tbody>\n",
       "</table>\n",
       "</div>"
      ],
      "text/plain": [
       "  PostalCode           Borough                      Neighborhood\n",
       "2        M3A        North York                         Parkwoods\n",
       "3        M4A        North York                  Victoria Village\n",
       "4        M5A  Downtown Toronto         Regent Park, Harbourfront\n",
       "5        M6A        North York  Lawrence Manor, Lawrence Heights\n",
       "6        M7A      Queen's Park     Ontario Provincial Government"
      ]
     },
     "metadata": {},
     "output_type": "display_data"
    }
   ],
   "source": [
    "# get a description of the dataframe\n",
    "display(df.describe())\n",
    "# delete all rows without Borough/Neighborhood\n",
    "df = df[df[1] != 'Not assigned']\n",
    "df[['Borough', 'Neighborhood', 'Empty']] = df[1].str.split('(', expand=True)\n",
    "df.drop(columns=[1, 'Empty'], inplace=True)\n",
    "df.rename(columns = {0:'PostalCode'}, inplace = True)\n",
    "df['Neighborhood'] = df['Neighborhood'].str.replace(')', '')\n",
    "df['Neighborhood'] = df['Neighborhood'].str.replace(' / ', ', ')\n",
    "df['Borough'] = df['Borough'].str.replace('Downtown TorontoStn A PO Boxes25 The Esplanade', 'Downtown Toronto')\n",
    "df['Borough'] = df['Borough'].str.replace('MississaugaCanada Post Gateway Processing Centre', 'Mississauga')\n",
    "df['Borough'] = df['Borough'].str.replace('East TorontoBusiness reply mail Processing Centre969 Eastern', 'East Toronto')\n",
    "df['Borough'] = df['Borough'].str.replace('EtobicokeNorthwest', 'Etobicoke Northwest')\n",
    "df['Borough'] = df['Borough'].str.replace('East YorkEast Toronto', 'East York/East Toronto')\n",
    "display(df.head())"
   ]
  },
  {
   "cell_type": "markdown",
   "metadata": {
    "ExecuteTime": {
     "end_time": "2021-04-18T11:16:04.413422Z",
     "start_time": "2021-04-18T11:16:04.406604Z"
    }
   },
   "source": [
    "### Check for Null-Values"
   ]
  },
  {
   "cell_type": "code",
   "execution_count": 7,
   "metadata": {
    "ExecuteTime": {
     "end_time": "2021-05-03T15:21:09.009016Z",
     "start_time": "2021-05-03T15:21:08.995463Z"
    },
    "scrolled": true
   },
   "outputs": [
    {
     "data": {
      "text/plain": [
       "PostalCode      0\n",
       "Borough         0\n",
       "Neighborhood    0\n",
       "dtype: int64"
      ]
     },
     "metadata": {},
     "output_type": "display_data"
    }
   ],
   "source": [
    "display(df.isna().sum())"
   ]
  },
  {
   "cell_type": "markdown",
   "metadata": {
    "ExecuteTime": {
     "end_time": "2021-04-18T11:19:53.478353Z",
     "start_time": "2021-04-18T11:19:53.471825Z"
    }
   },
   "source": [
    "## Get Latitudes and Longitudes per Postal Code\n",
    "\n",
    "### Using Geocoder (or at least trying to)\n",
    "\n",
    "The developers of this course state that this package can be very unreliable. I've been trying to break out of the loop after 30 seconds but the execution usually gets stuck during calling to geocoder.google without ever reaching the next line but one. So I finally commented this part out."
   ]
  },
  {
   "cell_type": "code",
   "execution_count": 19,
   "metadata": {
    "ExecuteTime": {
     "end_time": "2021-05-03T15:40:14.563453Z",
     "start_time": "2021-05-03T15:40:14.559054Z"
    }
   },
   "outputs": [],
   "source": [
    "# pc_lat_lng = []\n",
    "\n",
    "# print('Working', end=': ')\n",
    "\n",
    "# for postal_code in df['PostalCode']:\n",
    "\n",
    "#     print(postal_code, end='')\n",
    "    \n",
    "#     lat_lng_coords = None\n",
    "#     time_now = time.time()\n",
    "#     print('starting at', time_now)\n",
    "#     while(lat_lng_coords is None):\n",
    "#         g = geocoder.google('{}, Toronto, Ontario'.format(postal_code))\n",
    "#         lat_lng_coords = g.latlng\n",
    "#         elapsed = time.time() - time_now\n",
    "#         if elapsed > 30:\n",
    "#             break\n",
    "            \n",
    "#     if elapsed <= 30:\n",
    "#         pc_lat_lng.append([postal_code, lat_lng_coords[0], lat_lng_coords[1]])\n",
    "#         print(': done', end=' - ')\n",
    "#     else:\n",
    "#         print(': taking too long', end=' - ')\n",
    "    \n",
    "# print(pc_lat_lng[:5])"
   ]
  },
  {
   "cell_type": "markdown",
   "metadata": {
    "ExecuteTime": {
     "end_time": "2021-04-18T08:49:45.990791Z",
     "start_time": "2021-04-18T08:49:45.935616Z"
    }
   },
   "source": [
    "### Reading .csv-File Provided in Case Geocoder Doesn't Work"
   ]
  },
  {
   "cell_type": "code",
   "execution_count": 20,
   "metadata": {
    "ExecuteTime": {
     "end_time": "2021-05-03T15:40:20.022565Z",
     "start_time": "2021-05-03T15:40:19.960502Z"
    }
   },
   "outputs": [
    {
     "name": "stdout",
     "output_type": "stream",
     "text": [
      "This dataframe has 103 rows\n"
     ]
    },
    {
     "data": {
      "text/html": [
       "<div>\n",
       "<style scoped>\n",
       "    .dataframe tbody tr th:only-of-type {\n",
       "        vertical-align: middle;\n",
       "    }\n",
       "\n",
       "    .dataframe tbody tr th {\n",
       "        vertical-align: top;\n",
       "    }\n",
       "\n",
       "    .dataframe thead th {\n",
       "        text-align: right;\n",
       "    }\n",
       "</style>\n",
       "<table border=\"1\" class=\"dataframe\">\n",
       "  <thead>\n",
       "    <tr style=\"text-align: right;\">\n",
       "      <th></th>\n",
       "      <th>Postal Code</th>\n",
       "      <th>Latitude</th>\n",
       "      <th>Longitude</th>\n",
       "    </tr>\n",
       "  </thead>\n",
       "  <tbody>\n",
       "    <tr>\n",
       "      <th>0</th>\n",
       "      <td>M1B</td>\n",
       "      <td>43.806686</td>\n",
       "      <td>-79.194353</td>\n",
       "    </tr>\n",
       "    <tr>\n",
       "      <th>1</th>\n",
       "      <td>M1C</td>\n",
       "      <td>43.784535</td>\n",
       "      <td>-79.160497</td>\n",
       "    </tr>\n",
       "  </tbody>\n",
       "</table>\n",
       "</div>"
      ],
      "text/plain": [
       "  Postal Code   Latitude  Longitude\n",
       "0         M1B  43.806686 -79.194353\n",
       "1         M1C  43.784535 -79.160497"
      ]
     },
     "metadata": {},
     "output_type": "display_data"
    }
   ],
   "source": [
    "df_latlng = pd.read_csv('Geospatial_Coordinates.csv')\n",
    "print('This dataframe has', df_latlng.shape[0], 'rows')\n",
    "display(df_latlng.head(2))"
   ]
  },
  {
   "cell_type": "markdown",
   "metadata": {},
   "source": [
    "### Merge with Existing DataFrame"
   ]
  },
  {
   "cell_type": "code",
   "execution_count": 120,
   "metadata": {
    "ExecuteTime": {
     "end_time": "2021-05-03T17:31:02.131458Z",
     "start_time": "2021-05-03T17:31:02.110176Z"
    }
   },
   "outputs": [
    {
     "data": {
      "text/html": [
       "<div>\n",
       "<style scoped>\n",
       "    .dataframe tbody tr th:only-of-type {\n",
       "        vertical-align: middle;\n",
       "    }\n",
       "\n",
       "    .dataframe tbody tr th {\n",
       "        vertical-align: top;\n",
       "    }\n",
       "\n",
       "    .dataframe thead th {\n",
       "        text-align: right;\n",
       "    }\n",
       "</style>\n",
       "<table border=\"1\" class=\"dataframe\">\n",
       "  <thead>\n",
       "    <tr style=\"text-align: right;\">\n",
       "      <th></th>\n",
       "      <th>PostalCode</th>\n",
       "      <th>Borough</th>\n",
       "      <th>Neighborhood</th>\n",
       "      <th>Latitude</th>\n",
       "      <th>Longitude</th>\n",
       "    </tr>\n",
       "  </thead>\n",
       "  <tbody>\n",
       "    <tr>\n",
       "      <th>0</th>\n",
       "      <td>M3A</td>\n",
       "      <td>North York</td>\n",
       "      <td>Parkwoods</td>\n",
       "      <td>43.753259</td>\n",
       "      <td>-79.329656</td>\n",
       "    </tr>\n",
       "    <tr>\n",
       "      <th>1</th>\n",
       "      <td>M4A</td>\n",
       "      <td>North York</td>\n",
       "      <td>Victoria Village</td>\n",
       "      <td>43.725882</td>\n",
       "      <td>-79.315572</td>\n",
       "    </tr>\n",
       "    <tr>\n",
       "      <th>2</th>\n",
       "      <td>M5A</td>\n",
       "      <td>Downtown Toronto</td>\n",
       "      <td>Regent Park, Harbourfront</td>\n",
       "      <td>43.654260</td>\n",
       "      <td>-79.360636</td>\n",
       "    </tr>\n",
       "    <tr>\n",
       "      <th>3</th>\n",
       "      <td>M6A</td>\n",
       "      <td>North York</td>\n",
       "      <td>Lawrence Manor, Lawrence Heights</td>\n",
       "      <td>43.718518</td>\n",
       "      <td>-79.464763</td>\n",
       "    </tr>\n",
       "    <tr>\n",
       "      <th>4</th>\n",
       "      <td>M7A</td>\n",
       "      <td>Queen's Park</td>\n",
       "      <td>Ontario Provincial Government</td>\n",
       "      <td>43.662301</td>\n",
       "      <td>-79.389494</td>\n",
       "    </tr>\n",
       "  </tbody>\n",
       "</table>\n",
       "</div>"
      ],
      "text/plain": [
       "  PostalCode           Borough                      Neighborhood   Latitude  \\\n",
       "0        M3A        North York                         Parkwoods  43.753259   \n",
       "1        M4A        North York                  Victoria Village  43.725882   \n",
       "2        M5A  Downtown Toronto         Regent Park, Harbourfront  43.654260   \n",
       "3        M6A        North York  Lawrence Manor, Lawrence Heights  43.718518   \n",
       "4        M7A      Queen's Park     Ontario Provincial Government  43.662301   \n",
       "\n",
       "   Longitude  \n",
       "0 -79.329656  \n",
       "1 -79.315572  \n",
       "2 -79.360636  \n",
       "3 -79.464763  \n",
       "4 -79.389494  "
      ]
     },
     "metadata": {},
     "output_type": "display_data"
    }
   ],
   "source": [
    "df_complete = df.merge(df_latlng, left_on='PostalCode', right_on='Postal Code')\n",
    "df_complete.drop(columns='Postal Code', inplace=True)\n",
    "display(df_complete.head())"
   ]
  },
  {
   "cell_type": "markdown",
   "metadata": {},
   "source": [
    "## Explore Neighbourhoods\n",
    "\n",
    "### Visualize all Neighborhoods\n",
    "\n",
    "This is merely meant to get any idea of how all neighborhoods are distributed - I'm not familiar with them and I guess a lot of other users aren't either."
   ]
  },
  {
   "cell_type": "code",
   "execution_count": 22,
   "metadata": {
    "ExecuteTime": {
     "end_time": "2021-05-03T15:40:20.552993Z",
     "start_time": "2021-05-03T15:40:20.055684Z"
    }
   },
   "outputs": [
    {
     "name": "stdout",
     "output_type": "stream",
     "text": [
      "Each borough is shown in a different colour. This does not represent clustering.\n"
     ]
    },
    {
     "data": {
      "text/html": [
       "<div style=\"width:100%;\"><div style=\"position:relative;width:100%;height:0;padding-bottom:60%;\"><span style=\"color:#565656\">Make this Notebook Trusted to load map: File -> Trust Notebook</span><iframe src=\"about:blank\" style=\"position:absolute;width:100%;height:100%;left:0;top:0;border:none !important;\" data-html=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 onload=\"this.contentDocument.open();this.contentDocument.write(atob(this.getAttribute('data-html')));this.contentDocument.close();\" allowfullscreen webkitallowfullscreen mozallowfullscreen></iframe></div></div>"
      ],
      "text/plain": [
       "<folium.folium.Map at 0x118d68f10>"
      ]
     },
     "metadata": {},
     "output_type": "display_data"
    }
   ],
   "source": [
    "# use mean values of latitude and longitude to define center of map\n",
    "latitude = df_complete['Latitude'].mean()\n",
    "longitude = df_complete['Longitude'].mean()\n",
    "\n",
    "# generate basic map\n",
    "nbh_map = folium.Map(location=[latitude, longitude], zoom_start=10)\n",
    "\n",
    "colors = ['lightblue', 'mediumblue', 'blue', 'darkblue', 'navy',\n",
    "          'lightgreen', 'palegreen', 'green', 'darkgreen', 'forestgreen',\n",
    "          'coral', 'red', 'darkred']\n",
    "\n",
    "for i, borough in enumerate(df_complete['Borough'].unique()):\n",
    "    color = colors[i]\n",
    "    df_borough = df_complete[df_complete['Borough'] == borough]\n",
    "    # add markers for each neighborhood\n",
    "    for lat, lng, borough, postal in zip(df_borough['Latitude'], df_borough['Longitude'],\n",
    "                                                df_borough['Borough'], df_borough['PostalCode']):\n",
    "            label= postal + ' ' + borough\n",
    "            folium.CircleMarker(\n",
    "                [lat, lng],\n",
    "                radius=5,\n",
    "                color='black',\n",
    "                weight=1,\n",
    "                popup=label,\n",
    "                fill = True,\n",
    "                fill_color=color,\n",
    "                fill_opacity=1\n",
    "            ).add_to(nbh_map)\n",
    "\n",
    "# display map\n",
    "nbh_map.save('nbh_map.html')\n",
    "print('Each borough is shown in a different colour. This does not represent clustering.')\n",
    "display(nbh_map)"
   ]
  },
  {
   "cell_type": "markdown",
   "metadata": {
    "ExecuteTime": {
     "end_time": "2021-04-18T12:14:22.200155Z",
     "start_time": "2021-04-18T12:14:22.190489Z"
    }
   },
   "source": [
    "### Define Foursquare Credentials"
   ]
  },
  {
   "cell_type": "code",
   "execution_count": 23,
   "metadata": {
    "ExecuteTime": {
     "end_time": "2021-05-03T15:40:20.567884Z",
     "start_time": "2021-05-03T15:40:20.557796Z"
    }
   },
   "outputs": [],
   "source": [
    "CLIENT_ID = 'SVG23QBUTKWRZPL3WSBLG4MRQTDCSNAGTBN4Q3LVQXYCS1FY' # your Foursquare ID\n",
    "CLIENT_SECRET = '01B1S5KEKFASZ12EGGFV2ZFYV1PFTQJRDO2FRJWOE1PJ1A2R' # your Foursquare Secret\n",
    "ACCESS_TOKEN = '4NL4SNK4BUYDOKQGIPB242F5YSAIQTLTGRJDCW5ETB2213BE' # your FourSquare Access Token\n",
    "\n",
    "VERSION = '20180605' # Foursquare API version\n",
    "LIMIT = 100 # A default Foursquare API limit value"
   ]
  },
  {
   "cell_type": "markdown",
   "metadata": {},
   "source": [
    "#### Defining Function to Get Nearby Venues"
   ]
  },
  {
   "cell_type": "code",
   "execution_count": 59,
   "metadata": {
    "ExecuteTime": {
     "end_time": "2021-05-03T16:51:57.781114Z",
     "start_time": "2021-05-03T16:51:57.768347Z"
    }
   },
   "outputs": [],
   "source": [
    "def getNearbyVenues(names, latitudes, longitudes, radius=500):\n",
    "    \n",
    "    print('Please be patient; this will take a little time.')\n",
    "    \n",
    "    venues_list=[]\n",
    "    for name, lat, lng in zip(names, latitudes, longitudes):\n",
    "        print('.', end='')\n",
    "            \n",
    "        # create the API request URL\n",
    "        url = 'https://api.foursquare.com/v2/venues/explore?&client_id={}&client_secret={}&v={}&ll={},{}&radius={}&limit={}'.format(\n",
    "            CLIENT_ID, \n",
    "            CLIENT_SECRET, \n",
    "            VERSION, \n",
    "            lat, \n",
    "            lng, \n",
    "            radius, \n",
    "            LIMIT)\n",
    "            \n",
    "        # make the GET request\n",
    "        results = requests.get(url).json()['response']['groups'][0]['items']\n",
    "        \n",
    "        # return only relevant information for each nearby venue\n",
    "        venues_list.append([(\n",
    "            name, \n",
    "            lat, \n",
    "            lng, \n",
    "            v['venue']['name'], \n",
    "            v['venue']['location']['lat'], \n",
    "            v['venue']['location']['lng'],  \n",
    "            v['venue']['categories'][0]['name']) for v in results])\n",
    "\n",
    "    print('\\nBuilding DataFrame')\n",
    "    nearby_venues = pd.DataFrame([item for venue_list in venues_list for item in venue_list])\n",
    "    nearby_venues.columns = ['Neighborhood', \n",
    "                  'Neighborhood Latitude', \n",
    "                  'Neighborhood Longitude', \n",
    "                  'Venue', \n",
    "                  'Venue Latitude', \n",
    "                  'Venue Longitude', \n",
    "                  'Venue Category']\n",
    "    print('Returning Result')\n",
    "    \n",
    "    return(nearby_venues)"
   ]
  },
  {
   "cell_type": "markdown",
   "metadata": {},
   "source": [
    "### Get Venues for all of Toronto"
   ]
  },
  {
   "cell_type": "code",
   "execution_count": 73,
   "metadata": {
    "ExecuteTime": {
     "end_time": "2021-05-03T16:56:46.128414Z",
     "start_time": "2021-05-03T16:55:58.033790Z"
    }
   },
   "outputs": [
    {
     "name": "stdout",
     "output_type": "stream",
     "text": [
      "Please be patient; this will take a little time.\n",
      ".......................................................................................................\n",
      "Building DataFrame\n",
      "Returning Result\n",
      "Overall 6826 venues were returned\n"
     ]
    },
    {
     "data": {
      "text/html": [
       "<div>\n",
       "<style scoped>\n",
       "    .dataframe tbody tr th:only-of-type {\n",
       "        vertical-align: middle;\n",
       "    }\n",
       "\n",
       "    .dataframe tbody tr th {\n",
       "        vertical-align: top;\n",
       "    }\n",
       "\n",
       "    .dataframe thead th {\n",
       "        text-align: right;\n",
       "    }\n",
       "</style>\n",
       "<table border=\"1\" class=\"dataframe\">\n",
       "  <thead>\n",
       "    <tr style=\"text-align: right;\">\n",
       "      <th></th>\n",
       "      <th>Neighborhood</th>\n",
       "      <th>Neighborhood Latitude</th>\n",
       "      <th>Neighborhood Longitude</th>\n",
       "      <th>Venue</th>\n",
       "      <th>Venue Latitude</th>\n",
       "      <th>Venue Longitude</th>\n",
       "      <th>Venue Category</th>\n",
       "    </tr>\n",
       "  </thead>\n",
       "  <tbody>\n",
       "    <tr>\n",
       "      <th>0</th>\n",
       "      <td>Parkwoods</td>\n",
       "      <td>43.753259</td>\n",
       "      <td>-79.329656</td>\n",
       "      <td>Allwyn's Bakery</td>\n",
       "      <td>43.759840</td>\n",
       "      <td>-79.324719</td>\n",
       "      <td>Caribbean Restaurant</td>\n",
       "    </tr>\n",
       "    <tr>\n",
       "      <th>1</th>\n",
       "      <td>Parkwoods</td>\n",
       "      <td>43.753259</td>\n",
       "      <td>-79.329656</td>\n",
       "      <td>Tim Hortons</td>\n",
       "      <td>43.760668</td>\n",
       "      <td>-79.326368</td>\n",
       "      <td>Café</td>\n",
       "    </tr>\n",
       "    <tr>\n",
       "      <th>2</th>\n",
       "      <td>Parkwoods</td>\n",
       "      <td>43.753259</td>\n",
       "      <td>-79.329656</td>\n",
       "      <td>Donalda Golf &amp; Country Club</td>\n",
       "      <td>43.752816</td>\n",
       "      <td>-79.342741</td>\n",
       "      <td>Golf Course</td>\n",
       "    </tr>\n",
       "    <tr>\n",
       "      <th>3</th>\n",
       "      <td>Parkwoods</td>\n",
       "      <td>43.753259</td>\n",
       "      <td>-79.329656</td>\n",
       "      <td>Brookbanks Park</td>\n",
       "      <td>43.751976</td>\n",
       "      <td>-79.332140</td>\n",
       "      <td>Park</td>\n",
       "    </tr>\n",
       "    <tr>\n",
       "      <th>4</th>\n",
       "      <td>Parkwoods</td>\n",
       "      <td>43.753259</td>\n",
       "      <td>-79.329656</td>\n",
       "      <td>Bruno's valu-mart</td>\n",
       "      <td>43.746143</td>\n",
       "      <td>-79.324630</td>\n",
       "      <td>Grocery Store</td>\n",
       "    </tr>\n",
       "  </tbody>\n",
       "</table>\n",
       "</div>"
      ],
      "text/plain": [
       "  Neighborhood  Neighborhood Latitude  Neighborhood Longitude  \\\n",
       "0    Parkwoods              43.753259              -79.329656   \n",
       "1    Parkwoods              43.753259              -79.329656   \n",
       "2    Parkwoods              43.753259              -79.329656   \n",
       "3    Parkwoods              43.753259              -79.329656   \n",
       "4    Parkwoods              43.753259              -79.329656   \n",
       "\n",
       "                         Venue  Venue Latitude  Venue Longitude  \\\n",
       "0              Allwyn's Bakery       43.759840       -79.324719   \n",
       "1                  Tim Hortons       43.760668       -79.326368   \n",
       "2  Donalda Golf & Country Club       43.752816       -79.342741   \n",
       "3              Brookbanks Park       43.751976       -79.332140   \n",
       "4            Bruno's valu-mart       43.746143       -79.324630   \n",
       "\n",
       "         Venue Category  \n",
       "0  Caribbean Restaurant  \n",
       "1                  Café  \n",
       "2           Golf Course  \n",
       "3                  Park  \n",
       "4         Grocery Store  "
      ]
     },
     "metadata": {},
     "output_type": "display_data"
    }
   ],
   "source": [
    "toronto_venues = getNearbyVenues(names=df_complete['Neighborhood'],\n",
    "                                 latitudes=df_complete['Latitude'],\n",
    "                                 longitudes=df_complete['Longitude'],\n",
    "                                 radius=1500\n",
    "                                  )\n",
    "\n",
    "print('Overall', toronto_venues.shape[0], 'venues were returned')\n",
    "display(toronto_venues.head())"
   ]
  },
  {
   "cell_type": "markdown",
   "metadata": {},
   "source": [
    "### How Many Venues were Returned per Neighborhood?"
   ]
  },
  {
   "cell_type": "code",
   "execution_count": 74,
   "metadata": {
    "ExecuteTime": {
     "end_time": "2021-05-03T16:56:46.143152Z",
     "start_time": "2021-05-03T16:56:46.131516Z"
    }
   },
   "outputs": [
    {
     "data": {
      "text/plain": [
       "First Canadian Place, Underground city    100\n",
       "The Beaches                               100\n",
       "Studio District                           100\n",
       "Berczy Park                               100\n",
       "Dufferin, Dovercourt Village              100\n",
       "                                         ... \n",
       "Bayview Village                            16\n",
       "Birch Cliff, Cliffside West                12\n",
       "Rouge Hill, Port Union, Highland Creek     10\n",
       "DownsviewWest                               6\n",
       "Upper Rouge                                 3\n",
       "Name: Neighborhood, Length: 103, dtype: int64"
      ]
     },
     "metadata": {},
     "output_type": "display_data"
    }
   ],
   "source": [
    "display(toronto_venues['Neighborhood'].value_counts().to_frame(name='count'))"
   ]
  },
  {
   "cell_type": "markdown",
   "metadata": {},
   "source": [
    "### And How Many Unique Venues are There?"
   ]
  },
  {
   "cell_type": "code",
   "execution_count": 75,
   "metadata": {
    "ExecuteTime": {
     "end_time": "2021-05-03T16:56:46.155600Z",
     "start_time": "2021-05-03T16:56:46.147184Z"
    }
   },
   "outputs": [
    {
     "name": "stdout",
     "output_type": "stream",
     "text": [
      "There are 337 unique venues.\n"
     ]
    }
   ],
   "source": [
    "print('There are', toronto_venues['Venue Category'].nunique(), 'unique venues.')"
   ]
  },
  {
   "cell_type": "markdown",
   "metadata": {},
   "source": [
    "## Cluster Neighborhoods\n",
    "\n",
    "### One-Hot Encoding of Categories"
   ]
  },
  {
   "cell_type": "code",
   "execution_count": 76,
   "metadata": {
    "ExecuteTime": {
     "end_time": "2021-05-03T16:56:46.227454Z",
     "start_time": "2021-05-03T16:56:46.159206Z"
    }
   },
   "outputs": [
    {
     "name": "stdout",
     "output_type": "stream",
     "text": [
      "After one-hot encoding there are 6826 rows and 337 columns\n"
     ]
    },
    {
     "data": {
      "text/html": [
       "<div>\n",
       "<style scoped>\n",
       "    .dataframe tbody tr th:only-of-type {\n",
       "        vertical-align: middle;\n",
       "    }\n",
       "\n",
       "    .dataframe tbody tr th {\n",
       "        vertical-align: top;\n",
       "    }\n",
       "\n",
       "    .dataframe thead th {\n",
       "        text-align: right;\n",
       "    }\n",
       "</style>\n",
       "<table border=\"1\" class=\"dataframe\">\n",
       "  <thead>\n",
       "    <tr style=\"text-align: right;\">\n",
       "      <th></th>\n",
       "      <th>Zoo Exhibit</th>\n",
       "      <th>Accessories Store</th>\n",
       "      <th>Afghan Restaurant</th>\n",
       "      <th>Airport</th>\n",
       "      <th>Airport Lounge</th>\n",
       "      <th>American Restaurant</th>\n",
       "      <th>Amphitheater</th>\n",
       "      <th>Animal Shelter</th>\n",
       "      <th>Antique Shop</th>\n",
       "      <th>Aquarium</th>\n",
       "      <th>...</th>\n",
       "      <th>Vietnamese Restaurant</th>\n",
       "      <th>Volleyball Court</th>\n",
       "      <th>Warehouse Store</th>\n",
       "      <th>Whisky Bar</th>\n",
       "      <th>Wine Bar</th>\n",
       "      <th>Wings Joint</th>\n",
       "      <th>Women's Store</th>\n",
       "      <th>Xinjiang Restaurant</th>\n",
       "      <th>Yoga Studio</th>\n",
       "      <th>Zoo</th>\n",
       "    </tr>\n",
       "  </thead>\n",
       "  <tbody>\n",
       "    <tr>\n",
       "      <th>0</th>\n",
       "      <td>0</td>\n",
       "      <td>0</td>\n",
       "      <td>0</td>\n",
       "      <td>0</td>\n",
       "      <td>0</td>\n",
       "      <td>0</td>\n",
       "      <td>0</td>\n",
       "      <td>0</td>\n",
       "      <td>0</td>\n",
       "      <td>0</td>\n",
       "      <td>...</td>\n",
       "      <td>0</td>\n",
       "      <td>0</td>\n",
       "      <td>0</td>\n",
       "      <td>0</td>\n",
       "      <td>0</td>\n",
       "      <td>0</td>\n",
       "      <td>0</td>\n",
       "      <td>0</td>\n",
       "      <td>0</td>\n",
       "      <td>0</td>\n",
       "    </tr>\n",
       "    <tr>\n",
       "      <th>1</th>\n",
       "      <td>0</td>\n",
       "      <td>0</td>\n",
       "      <td>0</td>\n",
       "      <td>0</td>\n",
       "      <td>0</td>\n",
       "      <td>0</td>\n",
       "      <td>0</td>\n",
       "      <td>0</td>\n",
       "      <td>0</td>\n",
       "      <td>0</td>\n",
       "      <td>...</td>\n",
       "      <td>0</td>\n",
       "      <td>0</td>\n",
       "      <td>0</td>\n",
       "      <td>0</td>\n",
       "      <td>0</td>\n",
       "      <td>0</td>\n",
       "      <td>0</td>\n",
       "      <td>0</td>\n",
       "      <td>0</td>\n",
       "      <td>0</td>\n",
       "    </tr>\n",
       "    <tr>\n",
       "      <th>2</th>\n",
       "      <td>0</td>\n",
       "      <td>0</td>\n",
       "      <td>0</td>\n",
       "      <td>0</td>\n",
       "      <td>0</td>\n",
       "      <td>0</td>\n",
       "      <td>0</td>\n",
       "      <td>0</td>\n",
       "      <td>0</td>\n",
       "      <td>0</td>\n",
       "      <td>...</td>\n",
       "      <td>0</td>\n",
       "      <td>0</td>\n",
       "      <td>0</td>\n",
       "      <td>0</td>\n",
       "      <td>0</td>\n",
       "      <td>0</td>\n",
       "      <td>0</td>\n",
       "      <td>0</td>\n",
       "      <td>0</td>\n",
       "      <td>0</td>\n",
       "    </tr>\n",
       "    <tr>\n",
       "      <th>3</th>\n",
       "      <td>0</td>\n",
       "      <td>0</td>\n",
       "      <td>0</td>\n",
       "      <td>0</td>\n",
       "      <td>0</td>\n",
       "      <td>0</td>\n",
       "      <td>0</td>\n",
       "      <td>0</td>\n",
       "      <td>0</td>\n",
       "      <td>0</td>\n",
       "      <td>...</td>\n",
       "      <td>0</td>\n",
       "      <td>0</td>\n",
       "      <td>0</td>\n",
       "      <td>0</td>\n",
       "      <td>0</td>\n",
       "      <td>0</td>\n",
       "      <td>0</td>\n",
       "      <td>0</td>\n",
       "      <td>0</td>\n",
       "      <td>0</td>\n",
       "    </tr>\n",
       "    <tr>\n",
       "      <th>4</th>\n",
       "      <td>0</td>\n",
       "      <td>0</td>\n",
       "      <td>0</td>\n",
       "      <td>0</td>\n",
       "      <td>0</td>\n",
       "      <td>0</td>\n",
       "      <td>0</td>\n",
       "      <td>0</td>\n",
       "      <td>0</td>\n",
       "      <td>0</td>\n",
       "      <td>...</td>\n",
       "      <td>0</td>\n",
       "      <td>0</td>\n",
       "      <td>0</td>\n",
       "      <td>0</td>\n",
       "      <td>0</td>\n",
       "      <td>0</td>\n",
       "      <td>0</td>\n",
       "      <td>0</td>\n",
       "      <td>0</td>\n",
       "      <td>0</td>\n",
       "    </tr>\n",
       "  </tbody>\n",
       "</table>\n",
       "<p>5 rows × 337 columns</p>\n",
       "</div>"
      ],
      "text/plain": [
       "   Zoo Exhibit  Accessories Store  Afghan Restaurant  Airport  Airport Lounge  \\\n",
       "0            0                  0                  0        0               0   \n",
       "1            0                  0                  0        0               0   \n",
       "2            0                  0                  0        0               0   \n",
       "3            0                  0                  0        0               0   \n",
       "4            0                  0                  0        0               0   \n",
       "\n",
       "   American Restaurant  Amphitheater  Animal Shelter  Antique Shop  Aquarium  \\\n",
       "0                    0             0               0             0         0   \n",
       "1                    0             0               0             0         0   \n",
       "2                    0             0               0             0         0   \n",
       "3                    0             0               0             0         0   \n",
       "4                    0             0               0             0         0   \n",
       "\n",
       "   ...  Vietnamese Restaurant  Volleyball Court  Warehouse Store  Whisky Bar  \\\n",
       "0  ...                      0                 0                0           0   \n",
       "1  ...                      0                 0                0           0   \n",
       "2  ...                      0                 0                0           0   \n",
       "3  ...                      0                 0                0           0   \n",
       "4  ...                      0                 0                0           0   \n",
       "\n",
       "   Wine Bar  Wings Joint  Women's Store  Xinjiang Restaurant  Yoga Studio  Zoo  \n",
       "0         0            0              0                    0            0    0  \n",
       "1         0            0              0                    0            0    0  \n",
       "2         0            0              0                    0            0    0  \n",
       "3         0            0              0                    0            0    0  \n",
       "4         0            0              0                    0            0    0  \n",
       "\n",
       "[5 rows x 337 columns]"
      ]
     },
     "metadata": {},
     "output_type": "display_data"
    }
   ],
   "source": [
    "# one hot encoding\n",
    "toronto_onehot = pd.get_dummies(toronto_venues[['Venue Category']], prefix='', prefix_sep='')\n",
    "\n",
    "# add neighborhood column back to dataframe\n",
    "toronto_onehot['Neighborhood'] = toronto_venues['Neighborhood'] \n",
    "\n",
    "# move neighborhood column to the first column\n",
    "fixed_columns = [toronto_onehot.columns[-1]] + list(toronto_onehot.columns[:-1])\n",
    "toronto_onehot = toronto_onehot[fixed_columns]\n",
    "\n",
    "print('After one-hot encoding there are', toronto_onehot.shape[0], \n",
    "      'rows and', toronto_onehot.shape[1], 'columns')\n",
    "display(toronto_onehot.head())"
   ]
  },
  {
   "cell_type": "markdown",
   "metadata": {
    "ExecuteTime": {
     "end_time": "2021-05-03T16:07:06.451874Z",
     "start_time": "2021-05-03T16:07:06.389901Z"
    }
   },
   "source": [
    "### Group by Neighborhoods"
   ]
  },
  {
   "cell_type": "code",
   "execution_count": 77,
   "metadata": {
    "ExecuteTime": {
     "end_time": "2021-05-03T16:56:46.369481Z",
     "start_time": "2021-05-03T16:56:46.234037Z"
    }
   },
   "outputs": [
    {
     "name": "stdout",
     "output_type": "stream",
     "text": [
      "There are 103 Neighborhoods with Venues.\n"
     ]
    },
    {
     "data": {
      "text/html": [
       "<div>\n",
       "<style scoped>\n",
       "    .dataframe tbody tr th:only-of-type {\n",
       "        vertical-align: middle;\n",
       "    }\n",
       "\n",
       "    .dataframe tbody tr th {\n",
       "        vertical-align: top;\n",
       "    }\n",
       "\n",
       "    .dataframe thead th {\n",
       "        text-align: right;\n",
       "    }\n",
       "</style>\n",
       "<table border=\"1\" class=\"dataframe\">\n",
       "  <thead>\n",
       "    <tr style=\"text-align: right;\">\n",
       "      <th></th>\n",
       "      <th>Neighborhood</th>\n",
       "      <th>Zoo Exhibit</th>\n",
       "      <th>Accessories Store</th>\n",
       "      <th>Afghan Restaurant</th>\n",
       "      <th>Airport</th>\n",
       "      <th>Airport Lounge</th>\n",
       "      <th>American Restaurant</th>\n",
       "      <th>Amphitheater</th>\n",
       "      <th>Animal Shelter</th>\n",
       "      <th>Antique Shop</th>\n",
       "      <th>...</th>\n",
       "      <th>Vietnamese Restaurant</th>\n",
       "      <th>Volleyball Court</th>\n",
       "      <th>Warehouse Store</th>\n",
       "      <th>Whisky Bar</th>\n",
       "      <th>Wine Bar</th>\n",
       "      <th>Wings Joint</th>\n",
       "      <th>Women's Store</th>\n",
       "      <th>Xinjiang Restaurant</th>\n",
       "      <th>Yoga Studio</th>\n",
       "      <th>Zoo</th>\n",
       "    </tr>\n",
       "  </thead>\n",
       "  <tbody>\n",
       "    <tr>\n",
       "      <th>0</th>\n",
       "      <td>Agincourt</td>\n",
       "      <td>0.0</td>\n",
       "      <td>0.0</td>\n",
       "      <td>0.0</td>\n",
       "      <td>0.0</td>\n",
       "      <td>0.0</td>\n",
       "      <td>0.000000</td>\n",
       "      <td>0.0</td>\n",
       "      <td>0.0</td>\n",
       "      <td>0.0</td>\n",
       "      <td>...</td>\n",
       "      <td>0.015873</td>\n",
       "      <td>0.0</td>\n",
       "      <td>0.0</td>\n",
       "      <td>0.0</td>\n",
       "      <td>0.0</td>\n",
       "      <td>0.000000</td>\n",
       "      <td>0.0</td>\n",
       "      <td>0.0</td>\n",
       "      <td>0.000000</td>\n",
       "      <td>0.0</td>\n",
       "    </tr>\n",
       "    <tr>\n",
       "      <th>1</th>\n",
       "      <td>Alderwood, Long Branch</td>\n",
       "      <td>0.0</td>\n",
       "      <td>0.0</td>\n",
       "      <td>0.0</td>\n",
       "      <td>0.0</td>\n",
       "      <td>0.0</td>\n",
       "      <td>0.000000</td>\n",
       "      <td>0.0</td>\n",
       "      <td>0.0</td>\n",
       "      <td>0.0</td>\n",
       "      <td>...</td>\n",
       "      <td>0.000000</td>\n",
       "      <td>0.0</td>\n",
       "      <td>0.0</td>\n",
       "      <td>0.0</td>\n",
       "      <td>0.0</td>\n",
       "      <td>0.022727</td>\n",
       "      <td>0.0</td>\n",
       "      <td>0.0</td>\n",
       "      <td>0.000000</td>\n",
       "      <td>0.0</td>\n",
       "    </tr>\n",
       "    <tr>\n",
       "      <th>2</th>\n",
       "      <td>Bathurst Manor, Wilson Heights, Downsview North</td>\n",
       "      <td>0.0</td>\n",
       "      <td>0.0</td>\n",
       "      <td>0.0</td>\n",
       "      <td>0.0</td>\n",
       "      <td>0.0</td>\n",
       "      <td>0.025641</td>\n",
       "      <td>0.0</td>\n",
       "      <td>0.0</td>\n",
       "      <td>0.0</td>\n",
       "      <td>...</td>\n",
       "      <td>0.000000</td>\n",
       "      <td>0.0</td>\n",
       "      <td>0.0</td>\n",
       "      <td>0.0</td>\n",
       "      <td>0.0</td>\n",
       "      <td>0.000000</td>\n",
       "      <td>0.0</td>\n",
       "      <td>0.0</td>\n",
       "      <td>0.000000</td>\n",
       "      <td>0.0</td>\n",
       "    </tr>\n",
       "    <tr>\n",
       "      <th>3</th>\n",
       "      <td>Bayview Village</td>\n",
       "      <td>0.0</td>\n",
       "      <td>0.0</td>\n",
       "      <td>0.0</td>\n",
       "      <td>0.0</td>\n",
       "      <td>0.0</td>\n",
       "      <td>0.000000</td>\n",
       "      <td>0.0</td>\n",
       "      <td>0.0</td>\n",
       "      <td>0.0</td>\n",
       "      <td>...</td>\n",
       "      <td>0.000000</td>\n",
       "      <td>0.0</td>\n",
       "      <td>0.0</td>\n",
       "      <td>0.0</td>\n",
       "      <td>0.0</td>\n",
       "      <td>0.000000</td>\n",
       "      <td>0.0</td>\n",
       "      <td>0.0</td>\n",
       "      <td>0.000000</td>\n",
       "      <td>0.0</td>\n",
       "    </tr>\n",
       "    <tr>\n",
       "      <th>4</th>\n",
       "      <td>Bedford Park, Lawrence Manor East</td>\n",
       "      <td>0.0</td>\n",
       "      <td>0.0</td>\n",
       "      <td>0.0</td>\n",
       "      <td>0.0</td>\n",
       "      <td>0.0</td>\n",
       "      <td>0.000000</td>\n",
       "      <td>0.0</td>\n",
       "      <td>0.0</td>\n",
       "      <td>0.0</td>\n",
       "      <td>...</td>\n",
       "      <td>0.000000</td>\n",
       "      <td>0.0</td>\n",
       "      <td>0.0</td>\n",
       "      <td>0.0</td>\n",
       "      <td>0.0</td>\n",
       "      <td>0.013514</td>\n",
       "      <td>0.0</td>\n",
       "      <td>0.0</td>\n",
       "      <td>0.000000</td>\n",
       "      <td>0.0</td>\n",
       "    </tr>\n",
       "    <tr>\n",
       "      <th>...</th>\n",
       "      <td>...</td>\n",
       "      <td>...</td>\n",
       "      <td>...</td>\n",
       "      <td>...</td>\n",
       "      <td>...</td>\n",
       "      <td>...</td>\n",
       "      <td>...</td>\n",
       "      <td>...</td>\n",
       "      <td>...</td>\n",
       "      <td>...</td>\n",
       "      <td>...</td>\n",
       "      <td>...</td>\n",
       "      <td>...</td>\n",
       "      <td>...</td>\n",
       "      <td>...</td>\n",
       "      <td>...</td>\n",
       "      <td>...</td>\n",
       "      <td>...</td>\n",
       "      <td>...</td>\n",
       "      <td>...</td>\n",
       "      <td>...</td>\n",
       "    </tr>\n",
       "    <tr>\n",
       "      <th>98</th>\n",
       "      <td>WillowdaleWest</td>\n",
       "      <td>0.0</td>\n",
       "      <td>0.0</td>\n",
       "      <td>0.0</td>\n",
       "      <td>0.0</td>\n",
       "      <td>0.0</td>\n",
       "      <td>0.000000</td>\n",
       "      <td>0.0</td>\n",
       "      <td>0.0</td>\n",
       "      <td>0.0</td>\n",
       "      <td>...</td>\n",
       "      <td>0.024390</td>\n",
       "      <td>0.0</td>\n",
       "      <td>0.0</td>\n",
       "      <td>0.0</td>\n",
       "      <td>0.0</td>\n",
       "      <td>0.000000</td>\n",
       "      <td>0.0</td>\n",
       "      <td>0.0</td>\n",
       "      <td>0.000000</td>\n",
       "      <td>0.0</td>\n",
       "    </tr>\n",
       "    <tr>\n",
       "      <th>99</th>\n",
       "      <td>Woburn</td>\n",
       "      <td>0.0</td>\n",
       "      <td>0.0</td>\n",
       "      <td>0.0</td>\n",
       "      <td>0.0</td>\n",
       "      <td>0.0</td>\n",
       "      <td>0.000000</td>\n",
       "      <td>0.0</td>\n",
       "      <td>0.0</td>\n",
       "      <td>0.0</td>\n",
       "      <td>...</td>\n",
       "      <td>0.030303</td>\n",
       "      <td>0.0</td>\n",
       "      <td>0.0</td>\n",
       "      <td>0.0</td>\n",
       "      <td>0.0</td>\n",
       "      <td>0.000000</td>\n",
       "      <td>0.0</td>\n",
       "      <td>0.0</td>\n",
       "      <td>0.000000</td>\n",
       "      <td>0.0</td>\n",
       "    </tr>\n",
       "    <tr>\n",
       "      <th>100</th>\n",
       "      <td>Woodbine Heights</td>\n",
       "      <td>0.0</td>\n",
       "      <td>0.0</td>\n",
       "      <td>0.0</td>\n",
       "      <td>0.0</td>\n",
       "      <td>0.0</td>\n",
       "      <td>0.000000</td>\n",
       "      <td>0.0</td>\n",
       "      <td>0.0</td>\n",
       "      <td>0.0</td>\n",
       "      <td>...</td>\n",
       "      <td>0.000000</td>\n",
       "      <td>0.0</td>\n",
       "      <td>0.0</td>\n",
       "      <td>0.0</td>\n",
       "      <td>0.0</td>\n",
       "      <td>0.000000</td>\n",
       "      <td>0.0</td>\n",
       "      <td>0.0</td>\n",
       "      <td>0.000000</td>\n",
       "      <td>0.0</td>\n",
       "    </tr>\n",
       "    <tr>\n",
       "      <th>101</th>\n",
       "      <td>York Mills West</td>\n",
       "      <td>0.0</td>\n",
       "      <td>0.0</td>\n",
       "      <td>0.0</td>\n",
       "      <td>0.0</td>\n",
       "      <td>0.0</td>\n",
       "      <td>0.000000</td>\n",
       "      <td>0.0</td>\n",
       "      <td>0.0</td>\n",
       "      <td>0.0</td>\n",
       "      <td>...</td>\n",
       "      <td>0.000000</td>\n",
       "      <td>0.0</td>\n",
       "      <td>0.0</td>\n",
       "      <td>0.0</td>\n",
       "      <td>0.0</td>\n",
       "      <td>0.000000</td>\n",
       "      <td>0.0</td>\n",
       "      <td>0.0</td>\n",
       "      <td>0.012987</td>\n",
       "      <td>0.0</td>\n",
       "    </tr>\n",
       "    <tr>\n",
       "      <th>102</th>\n",
       "      <td>York Mills, Silver Hills</td>\n",
       "      <td>0.0</td>\n",
       "      <td>0.0</td>\n",
       "      <td>0.0</td>\n",
       "      <td>0.0</td>\n",
       "      <td>0.0</td>\n",
       "      <td>0.000000</td>\n",
       "      <td>0.0</td>\n",
       "      <td>0.0</td>\n",
       "      <td>0.0</td>\n",
       "      <td>...</td>\n",
       "      <td>0.000000</td>\n",
       "      <td>0.0</td>\n",
       "      <td>0.0</td>\n",
       "      <td>0.0</td>\n",
       "      <td>0.0</td>\n",
       "      <td>0.015625</td>\n",
       "      <td>0.0</td>\n",
       "      <td>0.0</td>\n",
       "      <td>0.000000</td>\n",
       "      <td>0.0</td>\n",
       "    </tr>\n",
       "  </tbody>\n",
       "</table>\n",
       "<p>103 rows × 337 columns</p>\n",
       "</div>"
      ],
      "text/plain": [
       "                                        Neighborhood  Zoo Exhibit  \\\n",
       "0                                         Agincourt           0.0   \n",
       "1                             Alderwood, Long Branch          0.0   \n",
       "2    Bathurst Manor, Wilson Heights, Downsview North          0.0   \n",
       "3                                    Bayview Village          0.0   \n",
       "4                  Bedford Park, Lawrence Manor East          0.0   \n",
       "..                                               ...          ...   \n",
       "98                                    WillowdaleWest          0.0   \n",
       "99                                            Woburn          0.0   \n",
       "100                                 Woodbine Heights          0.0   \n",
       "101                                  York Mills West          0.0   \n",
       "102                         York Mills, Silver Hills          0.0   \n",
       "\n",
       "     Accessories Store  Afghan Restaurant  Airport  Airport Lounge  \\\n",
       "0                  0.0                0.0      0.0             0.0   \n",
       "1                  0.0                0.0      0.0             0.0   \n",
       "2                  0.0                0.0      0.0             0.0   \n",
       "3                  0.0                0.0      0.0             0.0   \n",
       "4                  0.0                0.0      0.0             0.0   \n",
       "..                 ...                ...      ...             ...   \n",
       "98                 0.0                0.0      0.0             0.0   \n",
       "99                 0.0                0.0      0.0             0.0   \n",
       "100                0.0                0.0      0.0             0.0   \n",
       "101                0.0                0.0      0.0             0.0   \n",
       "102                0.0                0.0      0.0             0.0   \n",
       "\n",
       "     American Restaurant  Amphitheater  Animal Shelter  Antique Shop  ...  \\\n",
       "0               0.000000           0.0             0.0           0.0  ...   \n",
       "1               0.000000           0.0             0.0           0.0  ...   \n",
       "2               0.025641           0.0             0.0           0.0  ...   \n",
       "3               0.000000           0.0             0.0           0.0  ...   \n",
       "4               0.000000           0.0             0.0           0.0  ...   \n",
       "..                   ...           ...             ...           ...  ...   \n",
       "98              0.000000           0.0             0.0           0.0  ...   \n",
       "99              0.000000           0.0             0.0           0.0  ...   \n",
       "100             0.000000           0.0             0.0           0.0  ...   \n",
       "101             0.000000           0.0             0.0           0.0  ...   \n",
       "102             0.000000           0.0             0.0           0.0  ...   \n",
       "\n",
       "     Vietnamese Restaurant  Volleyball Court  Warehouse Store  Whisky Bar  \\\n",
       "0                 0.015873               0.0              0.0         0.0   \n",
       "1                 0.000000               0.0              0.0         0.0   \n",
       "2                 0.000000               0.0              0.0         0.0   \n",
       "3                 0.000000               0.0              0.0         0.0   \n",
       "4                 0.000000               0.0              0.0         0.0   \n",
       "..                     ...               ...              ...         ...   \n",
       "98                0.024390               0.0              0.0         0.0   \n",
       "99                0.030303               0.0              0.0         0.0   \n",
       "100               0.000000               0.0              0.0         0.0   \n",
       "101               0.000000               0.0              0.0         0.0   \n",
       "102               0.000000               0.0              0.0         0.0   \n",
       "\n",
       "     Wine Bar  Wings Joint  Women's Store  Xinjiang Restaurant  Yoga Studio  \\\n",
       "0         0.0     0.000000            0.0                  0.0     0.000000   \n",
       "1         0.0     0.022727            0.0                  0.0     0.000000   \n",
       "2         0.0     0.000000            0.0                  0.0     0.000000   \n",
       "3         0.0     0.000000            0.0                  0.0     0.000000   \n",
       "4         0.0     0.013514            0.0                  0.0     0.000000   \n",
       "..        ...          ...            ...                  ...          ...   \n",
       "98        0.0     0.000000            0.0                  0.0     0.000000   \n",
       "99        0.0     0.000000            0.0                  0.0     0.000000   \n",
       "100       0.0     0.000000            0.0                  0.0     0.000000   \n",
       "101       0.0     0.000000            0.0                  0.0     0.012987   \n",
       "102       0.0     0.015625            0.0                  0.0     0.000000   \n",
       "\n",
       "     Zoo  \n",
       "0    0.0  \n",
       "1    0.0  \n",
       "2    0.0  \n",
       "3    0.0  \n",
       "4    0.0  \n",
       "..   ...  \n",
       "98   0.0  \n",
       "99   0.0  \n",
       "100  0.0  \n",
       "101  0.0  \n",
       "102  0.0  \n",
       "\n",
       "[103 rows x 337 columns]"
      ]
     },
     "metadata": {},
     "output_type": "display_data"
    }
   ],
   "source": [
    "toronto_grouped = toronto_onehot.groupby('Neighborhood').mean().reset_index()\n",
    "print('There are', toronto_grouped['Neighborhood'].nunique(), 'Neighborhoods with Venues.')\n",
    "display(toronto_grouped)"
   ]
  },
  {
   "cell_type": "markdown",
   "metadata": {},
   "source": [
    "### Most Common Venues per Neighborhood\n",
    "\n",
    "#### Defining Function"
   ]
  },
  {
   "cell_type": "code",
   "execution_count": 90,
   "metadata": {
    "ExecuteTime": {
     "end_time": "2021-05-03T17:09:22.153495Z",
     "start_time": "2021-05-03T17:09:22.147204Z"
    }
   },
   "outputs": [],
   "source": [
    "def return_most_common_venues(row, num_top_venues):\n",
    "    row_categories = row.iloc[1:]\n",
    "    row_categories_sorted = row_categories.sort_values(ascending=False)\n",
    "    \n",
    "    return row_categories_sorted.index.values[0:num_top_venues]"
   ]
  },
  {
   "cell_type": "code",
   "execution_count": 91,
   "metadata": {
    "ExecuteTime": {
     "end_time": "2021-05-03T17:09:22.487065Z",
     "start_time": "2021-05-03T17:09:22.162651Z"
    }
   },
   "outputs": [
    {
     "data": {
      "text/html": [
       "<div>\n",
       "<style scoped>\n",
       "    .dataframe tbody tr th:only-of-type {\n",
       "        vertical-align: middle;\n",
       "    }\n",
       "\n",
       "    .dataframe tbody tr th {\n",
       "        vertical-align: top;\n",
       "    }\n",
       "\n",
       "    .dataframe thead th {\n",
       "        text-align: right;\n",
       "    }\n",
       "</style>\n",
       "<table border=\"1\" class=\"dataframe\">\n",
       "  <thead>\n",
       "    <tr style=\"text-align: right;\">\n",
       "      <th></th>\n",
       "      <th>Neighborhood</th>\n",
       "      <th>1st Most Common Venue</th>\n",
       "      <th>2nd Most Common Venue</th>\n",
       "      <th>3rd Most Common Venue</th>\n",
       "      <th>4th Most Common Venue</th>\n",
       "      <th>5th Most Common Venue</th>\n",
       "      <th>6th Most Common Venue</th>\n",
       "      <th>7th Most Common Venue</th>\n",
       "      <th>8th Most Common Venue</th>\n",
       "      <th>9th Most Common Venue</th>\n",
       "      <th>10th Most Common Venue</th>\n",
       "    </tr>\n",
       "  </thead>\n",
       "  <tbody>\n",
       "    <tr>\n",
       "      <th>0</th>\n",
       "      <td>Agincourt</td>\n",
       "      <td>Chinese Restaurant</td>\n",
       "      <td>Shopping Mall</td>\n",
       "      <td>Breakfast Spot</td>\n",
       "      <td>Bakery</td>\n",
       "      <td>Department Store</td>\n",
       "      <td>Caribbean Restaurant</td>\n",
       "      <td>Asian Restaurant</td>\n",
       "      <td>Cantonese Restaurant</td>\n",
       "      <td>Coffee Shop</td>\n",
       "      <td>Gym / Fitness Center</td>\n",
       "    </tr>\n",
       "    <tr>\n",
       "      <th>1</th>\n",
       "      <td>Alderwood, Long Branch</td>\n",
       "      <td>Pizza Place</td>\n",
       "      <td>Park</td>\n",
       "      <td>Café</td>\n",
       "      <td>Coffee Shop</td>\n",
       "      <td>Burger Joint</td>\n",
       "      <td>Bank</td>\n",
       "      <td>Grocery Store</td>\n",
       "      <td>Restaurant</td>\n",
       "      <td>Convenience Store</td>\n",
       "      <td>Bar</td>\n",
       "    </tr>\n",
       "    <tr>\n",
       "      <th>2</th>\n",
       "      <td>Bathurst Manor, Wilson Heights, Downsview North</td>\n",
       "      <td>Park</td>\n",
       "      <td>Coffee Shop</td>\n",
       "      <td>Gas Station</td>\n",
       "      <td>Bank</td>\n",
       "      <td>Pizza Place</td>\n",
       "      <td>Baseball Field</td>\n",
       "      <td>Dog Run</td>\n",
       "      <td>Fried Chicken Joint</td>\n",
       "      <td>French Restaurant</td>\n",
       "      <td>Sushi Restaurant</td>\n",
       "    </tr>\n",
       "    <tr>\n",
       "      <th>3</th>\n",
       "      <td>Bayview Village</td>\n",
       "      <td>Park</td>\n",
       "      <td>Gas Station</td>\n",
       "      <td>Trail</td>\n",
       "      <td>Bank</td>\n",
       "      <td>Skating Rink</td>\n",
       "      <td>Playground</td>\n",
       "      <td>Café</td>\n",
       "      <td>Shopping Mall</td>\n",
       "      <td>Grocery Store</td>\n",
       "      <td>Chinese Restaurant</td>\n",
       "    </tr>\n",
       "    <tr>\n",
       "      <th>4</th>\n",
       "      <td>Bedford Park, Lawrence Manor East</td>\n",
       "      <td>Bakery</td>\n",
       "      <td>Italian Restaurant</td>\n",
       "      <td>Sushi Restaurant</td>\n",
       "      <td>Coffee Shop</td>\n",
       "      <td>Bagel Shop</td>\n",
       "      <td>Pharmacy</td>\n",
       "      <td>Café</td>\n",
       "      <td>Pizza Place</td>\n",
       "      <td>Pub</td>\n",
       "      <td>Sandwich Place</td>\n",
       "    </tr>\n",
       "  </tbody>\n",
       "</table>\n",
       "</div>"
      ],
      "text/plain": [
       "                                      Neighborhood 1st Most Common Venue  \\\n",
       "0                                       Agincourt     Chinese Restaurant   \n",
       "1                           Alderwood, Long Branch           Pizza Place   \n",
       "2  Bathurst Manor, Wilson Heights, Downsview North                  Park   \n",
       "3                                  Bayview Village                  Park   \n",
       "4                Bedford Park, Lawrence Manor East                Bakery   \n",
       "\n",
       "  2nd Most Common Venue 3rd Most Common Venue 4th Most Common Venue  \\\n",
       "0         Shopping Mall        Breakfast Spot                Bakery   \n",
       "1                  Park                  Café           Coffee Shop   \n",
       "2           Coffee Shop           Gas Station                  Bank   \n",
       "3           Gas Station                 Trail                  Bank   \n",
       "4    Italian Restaurant      Sushi Restaurant           Coffee Shop   \n",
       "\n",
       "  5th Most Common Venue 6th Most Common Venue 7th Most Common Venue  \\\n",
       "0      Department Store  Caribbean Restaurant      Asian Restaurant   \n",
       "1          Burger Joint                  Bank         Grocery Store   \n",
       "2           Pizza Place        Baseball Field               Dog Run   \n",
       "3          Skating Rink            Playground                  Café   \n",
       "4            Bagel Shop              Pharmacy                  Café   \n",
       "\n",
       "  8th Most Common Venue 9th Most Common Venue 10th Most Common Venue  \n",
       "0  Cantonese Restaurant           Coffee Shop   Gym / Fitness Center  \n",
       "1            Restaurant     Convenience Store                    Bar  \n",
       "2   Fried Chicken Joint     French Restaurant       Sushi Restaurant  \n",
       "3         Shopping Mall         Grocery Store     Chinese Restaurant  \n",
       "4           Pizza Place                   Pub         Sandwich Place  "
      ]
     },
     "metadata": {},
     "output_type": "display_data"
    }
   ],
   "source": [
    "num_top_venues = 10\n",
    "\n",
    "indicators = ['st', 'nd', 'rd']\n",
    "\n",
    "# create columns according to number of top venues\n",
    "columns = ['Neighborhood']\n",
    "for ind in np.arange(num_top_venues):\n",
    "    try:\n",
    "        columns.append('{}{} Most Common Venue'.format(ind+1, indicators[ind]))\n",
    "    except:\n",
    "        columns.append('{}th Most Common Venue'.format(ind+1))\n",
    "\n",
    "# create a new dataframe\n",
    "neighborhoods_venues_sorted = pd.DataFrame(columns=columns)\n",
    "neighborhoods_venues_sorted['Neighborhood'] = toronto_grouped['Neighborhood']\n",
    "\n",
    "for ind in np.arange(toronto_grouped.shape[0]):\n",
    "    neighborhoods_venues_sorted.iloc[ind, 1:] = return_most_common_venues(toronto_grouped.iloc[ind, :], num_top_venues)\n",
    "\n",
    "display(neighborhoods_venues_sorted.head())"
   ]
  },
  {
   "cell_type": "markdown",
   "metadata": {},
   "source": [
    "### Apply Machine Learning for Clustering\n",
    "#### Finding Optimal Number of Clusters"
   ]
  },
  {
   "cell_type": "code",
   "execution_count": 125,
   "metadata": {
    "ExecuteTime": {
     "end_time": "2021-05-03T17:36:02.723463Z",
     "start_time": "2021-05-03T17:36:01.852318Z"
    }
   },
   "outputs": [
    {
     "data": {
      "image/png": "[encoded data removed]",
      "text/plain": [
       "<Figure size 432x288 with 1 Axes>"
      ]
     },
     "metadata": {
      "needs_background": "light"
     },
     "output_type": "display_data"
    }
   ],
   "source": [
    "from sklearn import metrics\n",
    "from scipy.spatial.distance import cdist\n",
    "\n",
    "toronto_grouped_clustering = toronto_grouped.drop('Neighborhood', 1)\n",
    "\n",
    "inertia, distortions = [], []\n",
    "for k in range(1, 11):\n",
    "    kmeans = KMeans(n_clusters=k, random_state=0)\n",
    "    kmeans.fit(toronto_grouped_clustering)\n",
    "    inertia.append(kmeans.inertia_)\n",
    "    distortions.append(sum(np.min(cdist(toronto_grouped_clustering, \n",
    "                                        kmeans.cluster_centers_, 'euclidean'), \n",
    "                                  axis=1)) / toronto_grouped_clustering.shape[0])\n",
    "    \n",
    "plt.plot(range(1, 11), inertia, 'bx-')\n",
    "plt.xticks(range(1, 11))\n",
    "plt.grid(axis='x', ls='dashed')\n",
    "plt.xlabel('Number of Clusters')\n",
    "plt.ylabel('Inertia')\n",
    "plt.title('Elbow Method Using Inertia')\n",
    "plt.show()"
   ]
  },
  {
   "cell_type": "code",
   "execution_count": 123,
   "metadata": {
    "ExecuteTime": {
     "end_time": "2021-05-03T17:35:28.620281Z",
     "start_time": "2021-05-03T17:35:28.396161Z"
    }
   },
   "outputs": [
    {
     "data": {
      "image/png": "[encoded data removed]",
      "text/plain": [
       "<Figure size 432x288 with 1 Axes>"
      ]
     },
     "metadata": {
      "needs_background": "light"
     },
     "output_type": "display_data"
    }
   ],
   "source": [
    "plt.plot(range(1, 11), distortions, 'bx-')\n",
    "plt.xticks(range(1, 11))\n",
    "plt.grid(axis='x', ls='dashed')\n",
    "plt.xlabel('Number of Clusters')\n",
    "plt.ylabel('Distortion')\n",
    "plt.title('Elbow Method Using Distortion')\n",
    "plt.show()"
   ]
  },
  {
   "cell_type": "markdown",
   "metadata": {
    "ExecuteTime": {
     "end_time": "2021-05-03T17:01:40.812400Z",
     "start_time": "2021-05-03T17:01:40.809177Z"
    }
   },
   "source": [
    "From these plots it isn't straight-forward to choose the optimal number but 4 seems a good choice for both of them since both curves flatten out some at this point.\n",
    "\n",
    "#### Running Algorithm with Optimal Number"
   ]
  },
  {
   "cell_type": "code",
   "execution_count": 93,
   "metadata": {
    "ExecuteTime": {
     "end_time": "2021-05-03T17:09:23.602131Z",
     "start_time": "2021-05-03T17:09:23.515125Z"
    }
   },
   "outputs": [
    {
     "name": "stdout",
     "output_type": "stream",
     "text": [
      "First 10 labels: [2 1 0 0 1 1 0 1 1 1]\n"
     ]
    }
   ],
   "source": [
    "# set number of clusters\n",
    "kclusters = 4\n",
    "\n",
    "# run k-means clustering\n",
    "kmeans = KMeans(n_clusters=kclusters, random_state=0).fit(toronto_grouped_clustering)\n",
    "\n",
    "# check cluster labels generated for each row in the dataframe\n",
    "print('First 10 labels:', kmeans.labels_[0:10])"
   ]
  },
  {
   "cell_type": "markdown",
   "metadata": {},
   "source": [
    "### Merge with Overview of Top 10 Venues per Neighborhood"
   ]
  },
  {
   "cell_type": "code",
   "execution_count": 94,
   "metadata": {
    "ExecuteTime": {
     "end_time": "2021-05-03T17:09:23.663110Z",
     "start_time": "2021-05-03T17:09:23.606663Z"
    }
   },
   "outputs": [
    {
     "data": {
      "text/html": [
       "<div>\n",
       "<style scoped>\n",
       "    .dataframe tbody tr th:only-of-type {\n",
       "        vertical-align: middle;\n",
       "    }\n",
       "\n",
       "    .dataframe tbody tr th {\n",
       "        vertical-align: top;\n",
       "    }\n",
       "\n",
       "    .dataframe thead th {\n",
       "        text-align: right;\n",
       "    }\n",
       "</style>\n",
       "<table border=\"1\" class=\"dataframe\">\n",
       "  <thead>\n",
       "    <tr style=\"text-align: right;\">\n",
       "      <th></th>\n",
       "      <th>PostalCode</th>\n",
       "      <th>Borough</th>\n",
       "      <th>Neighborhood</th>\n",
       "      <th>Latitude</th>\n",
       "      <th>Longitude</th>\n",
       "      <th>Cluster Labels</th>\n",
       "      <th>1st Most Common Venue</th>\n",
       "      <th>2nd Most Common Venue</th>\n",
       "      <th>3rd Most Common Venue</th>\n",
       "      <th>4th Most Common Venue</th>\n",
       "      <th>5th Most Common Venue</th>\n",
       "      <th>6th Most Common Venue</th>\n",
       "      <th>7th Most Common Venue</th>\n",
       "      <th>8th Most Common Venue</th>\n",
       "      <th>9th Most Common Venue</th>\n",
       "      <th>10th Most Common Venue</th>\n",
       "    </tr>\n",
       "  </thead>\n",
       "  <tbody>\n",
       "    <tr>\n",
       "      <th>0</th>\n",
       "      <td>M3A</td>\n",
       "      <td>North York</td>\n",
       "      <td>Parkwoods</td>\n",
       "      <td>43.753259</td>\n",
       "      <td>-79.329656</td>\n",
       "      <td>2</td>\n",
       "      <td>Pharmacy</td>\n",
       "      <td>Coffee Shop</td>\n",
       "      <td>Park</td>\n",
       "      <td>Supermarket</td>\n",
       "      <td>Intersection</td>\n",
       "      <td>Gas Station</td>\n",
       "      <td>Cosmetics Shop</td>\n",
       "      <td>Pizza Place</td>\n",
       "      <td>Bank</td>\n",
       "      <td>Discount Store</td>\n",
       "    </tr>\n",
       "    <tr>\n",
       "      <th>1</th>\n",
       "      <td>M4A</td>\n",
       "      <td>North York</td>\n",
       "      <td>Victoria Village</td>\n",
       "      <td>43.725882</td>\n",
       "      <td>-79.315572</td>\n",
       "      <td>2</td>\n",
       "      <td>Coffee Shop</td>\n",
       "      <td>Gym</td>\n",
       "      <td>Fast Food Restaurant</td>\n",
       "      <td>Middle Eastern Restaurant</td>\n",
       "      <td>Shoe Store</td>\n",
       "      <td>Thrift / Vintage Store</td>\n",
       "      <td>Grocery Store</td>\n",
       "      <td>Gym / Fitness Center</td>\n",
       "      <td>Indian Restaurant</td>\n",
       "      <td>Shopping Mall</td>\n",
       "    </tr>\n",
       "    <tr>\n",
       "      <th>2</th>\n",
       "      <td>M5A</td>\n",
       "      <td>Downtown Toronto</td>\n",
       "      <td>Regent Park, Harbourfront</td>\n",
       "      <td>43.654260</td>\n",
       "      <td>-79.360636</td>\n",
       "      <td>1</td>\n",
       "      <td>Coffee Shop</td>\n",
       "      <td>Café</td>\n",
       "      <td>Park</td>\n",
       "      <td>Restaurant</td>\n",
       "      <td>Diner</td>\n",
       "      <td>Japanese Restaurant</td>\n",
       "      <td>Bakery</td>\n",
       "      <td>Farmers Market</td>\n",
       "      <td>Pub</td>\n",
       "      <td>Gastropub</td>\n",
       "    </tr>\n",
       "    <tr>\n",
       "      <th>3</th>\n",
       "      <td>M6A</td>\n",
       "      <td>North York</td>\n",
       "      <td>Lawrence Manor, Lawrence Heights</td>\n",
       "      <td>43.718518</td>\n",
       "      <td>-79.464763</td>\n",
       "      <td>2</td>\n",
       "      <td>Clothing Store</td>\n",
       "      <td>Fast Food Restaurant</td>\n",
       "      <td>Coffee Shop</td>\n",
       "      <td>Restaurant</td>\n",
       "      <td>Sandwich Place</td>\n",
       "      <td>Vietnamese Restaurant</td>\n",
       "      <td>Furniture / Home Store</td>\n",
       "      <td>Turkish Restaurant</td>\n",
       "      <td>Food Court</td>\n",
       "      <td>Men's Store</td>\n",
       "    </tr>\n",
       "    <tr>\n",
       "      <th>4</th>\n",
       "      <td>M7A</td>\n",
       "      <td>Queen's Park</td>\n",
       "      <td>Ontario Provincial Government</td>\n",
       "      <td>43.662301</td>\n",
       "      <td>-79.389494</td>\n",
       "      <td>1</td>\n",
       "      <td>Coffee Shop</td>\n",
       "      <td>Pizza Place</td>\n",
       "      <td>Café</td>\n",
       "      <td>Park</td>\n",
       "      <td>Japanese Restaurant</td>\n",
       "      <td>Shopping Mall</td>\n",
       "      <td>Bubble Tea Shop</td>\n",
       "      <td>Beer Bar</td>\n",
       "      <td>Restaurant</td>\n",
       "      <td>Ramen Restaurant</td>\n",
       "    </tr>\n",
       "  </tbody>\n",
       "</table>\n",
       "</div>"
      ],
      "text/plain": [
       "  PostalCode           Borough                      Neighborhood   Latitude  \\\n",
       "0        M3A        North York                         Parkwoods  43.753259   \n",
       "1        M4A        North York                  Victoria Village  43.725882   \n",
       "2        M5A  Downtown Toronto         Regent Park, Harbourfront  43.654260   \n",
       "3        M6A        North York  Lawrence Manor, Lawrence Heights  43.718518   \n",
       "4        M7A      Queen's Park     Ontario Provincial Government  43.662301   \n",
       "\n",
       "   Longitude  Cluster Labels 1st Most Common Venue 2nd Most Common Venue  \\\n",
       "0 -79.329656               2              Pharmacy           Coffee Shop   \n",
       "1 -79.315572               2           Coffee Shop                   Gym   \n",
       "2 -79.360636               1           Coffee Shop                  Café   \n",
       "3 -79.464763               2        Clothing Store  Fast Food Restaurant   \n",
       "4 -79.389494               1           Coffee Shop           Pizza Place   \n",
       "\n",
       "  3rd Most Common Venue      4th Most Common Venue 5th Most Common Venue  \\\n",
       "0                  Park                Supermarket          Intersection   \n",
       "1  Fast Food Restaurant  Middle Eastern Restaurant            Shoe Store   \n",
       "2                  Park                 Restaurant                 Diner   \n",
       "3           Coffee Shop                 Restaurant        Sandwich Place   \n",
       "4                  Café                       Park   Japanese Restaurant   \n",
       "\n",
       "    6th Most Common Venue   7th Most Common Venue 8th Most Common Venue  \\\n",
       "0             Gas Station          Cosmetics Shop           Pizza Place   \n",
       "1  Thrift / Vintage Store           Grocery Store  Gym / Fitness Center   \n",
       "2     Japanese Restaurant                  Bakery        Farmers Market   \n",
       "3   Vietnamese Restaurant  Furniture / Home Store    Turkish Restaurant   \n",
       "4           Shopping Mall         Bubble Tea Shop              Beer Bar   \n",
       "\n",
       "  9th Most Common Venue 10th Most Common Venue  \n",
       "0                  Bank         Discount Store  \n",
       "1     Indian Restaurant          Shopping Mall  \n",
       "2                   Pub              Gastropub  \n",
       "3            Food Court            Men's Store  \n",
       "4            Restaurant       Ramen Restaurant  "
      ]
     },
     "metadata": {},
     "output_type": "display_data"
    }
   ],
   "source": [
    "# add clustering labels\n",
    "neighborhoods_venues_sorted.insert(0, 'Cluster Labels', kmeans.labels_)\n",
    "\n",
    "toronto_merged = df_complete\n",
    "\n",
    "# merge toronto_grouped with toronto_data to add latitude/longitude for each neighborhood\n",
    "toronto_merged = toronto_merged.join(neighborhoods_venues_sorted.set_index('Neighborhood'), on='Neighborhood')\n",
    "\n",
    "display(toronto_merged.head())"
   ]
  },
  {
   "cell_type": "markdown",
   "metadata": {},
   "source": [
    "### How many Neighborhoods are there per Cluster?"
   ]
  },
  {
   "cell_type": "code",
   "execution_count": 95,
   "metadata": {
    "ExecuteTime": {
     "end_time": "2021-05-03T17:09:23.679128Z",
     "start_time": "2021-05-03T17:09:23.667670Z"
    }
   },
   "outputs": [
    {
     "data": {
      "text/plain": [
       "1    56\n",
       "2    36\n",
       "0    10\n",
       "3     1\n",
       "Name: Cluster Labels, dtype: int64"
      ]
     },
     "metadata": {},
     "output_type": "display_data"
    }
   ],
   "source": [
    "display(toronto_merged['Cluster Labels'].value_counts())"
   ]
  },
  {
   "cell_type": "markdown",
   "metadata": {},
   "source": [
    "### Display Clusters on Map"
   ]
  },
  {
   "cell_type": "code",
   "execution_count": 106,
   "metadata": {
    "ExecuteTime": {
     "end_time": "2021-05-03T17:22:39.832086Z",
     "start_time": "2021-05-03T17:22:39.633707Z"
    }
   },
   "outputs": [
    {
     "data": {
      "text/html": [
       "<div style=\"width:100%;\"><div style=\"position:relative;width:100%;height:0;padding-bottom:60%;\"><span style=\"color:#565656\">Make this Notebook Trusted to load map: File -> Trust Notebook</span><iframe src=\"about:blank\" style=\"position:absolute;width:100%;height:100%;left:0;top:0;border:none !important;\" data-html=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 onload=\"this.contentDocument.open();this.contentDocument.write(atob(this.getAttribute('data-html')));this.contentDocument.close();\" allowfullscreen webkitallowfullscreen mozallowfullscreen></iframe></div></div>"
      ],
      "text/plain": [
       "<folium.folium.Map at 0x127284640>"
      ]
     },
     "metadata": {},
     "output_type": "display_data"
    }
   ],
   "source": [
    "# create map\n",
    "map_clusters = folium.Map(location=[latitude, longitude], zoom_start=11)\n",
    "\n",
    "# set color scheme for the clusters\n",
    "x = np.arange(kclusters)\n",
    "ys = [i + x + (i*x)**2 for i in range(kclusters)]\n",
    "colors_array = cm.rainbow(np.linspace(0, 1, len(ys)))\n",
    "rainbow = [colors.rgb2hex(i) for i in colors_array]\n",
    "\n",
    "# add markers to the map\n",
    "markers_colors = []\n",
    "for lat, lon, poi, cluster in zip(toronto_merged['Latitude'], toronto_merged['Longitude'],\n",
    "                                  toronto_merged['Neighborhood'], toronto_merged['Cluster Labels']):\n",
    "    label = folium.Popup(str(poi) + ' Cluster ' + str(cluster), parse_html=True)\n",
    "    folium.CircleMarker(\n",
    "        [lat, lon],\n",
    "        radius=5,\n",
    "        popup=label,\n",
    "        color=rainbow[int(cluster)-1],\n",
    "        fill=True,\n",
    "        fill_color=rainbow[int(cluster)-1],\n",
    "        fill_opacity=0.7).add_to(map_clusters)\n",
    "       \n",
    "display(map_clusters)"
   ]
  },
  {
   "cell_type": "markdown",
   "metadata": {},
   "source": [
    "Looking at the distribution of clusters it's easy to say that\n",
    "- all neighborhoods in Central Toronto are similar to each other\n",
    "- most of the suburbs are also similar \n",
    "- most neighborshoods on the coast have been grouped together but also a couple inland.\n",
    "Let's have a look at the third cluster which is actually cluster 0."
   ]
  },
  {
   "cell_type": "code",
   "execution_count": 98,
   "metadata": {
    "ExecuteTime": {
     "end_time": "2021-05-03T17:14:40.431465Z",
     "start_time": "2021-05-03T17:14:40.392242Z"
    }
   },
   "outputs": [
    {
     "data": {
      "text/html": [
       "<div>\n",
       "<style scoped>\n",
       "    .dataframe tbody tr th:only-of-type {\n",
       "        vertical-align: middle;\n",
       "    }\n",
       "\n",
       "    .dataframe tbody tr th {\n",
       "        vertical-align: top;\n",
       "    }\n",
       "\n",
       "    .dataframe thead th {\n",
       "        text-align: right;\n",
       "    }\n",
       "</style>\n",
       "<table border=\"1\" class=\"dataframe\">\n",
       "  <thead>\n",
       "    <tr style=\"text-align: right;\">\n",
       "      <th></th>\n",
       "      <th>PostalCode</th>\n",
       "      <th>Borough</th>\n",
       "      <th>Neighborhood</th>\n",
       "      <th>Latitude</th>\n",
       "      <th>Longitude</th>\n",
       "      <th>Cluster Labels</th>\n",
       "      <th>1st Most Common Venue</th>\n",
       "      <th>2nd Most Common Venue</th>\n",
       "      <th>3rd Most Common Venue</th>\n",
       "      <th>4th Most Common Venue</th>\n",
       "      <th>5th Most Common Venue</th>\n",
       "      <th>6th Most Common Venue</th>\n",
       "      <th>7th Most Common Venue</th>\n",
       "      <th>8th Most Common Venue</th>\n",
       "      <th>9th Most Common Venue</th>\n",
       "      <th>10th Most Common Venue</th>\n",
       "    </tr>\n",
       "  </thead>\n",
       "  <tbody>\n",
       "    <tr>\n",
       "      <th>5</th>\n",
       "      <td>M9A</td>\n",
       "      <td>Etobicoke</td>\n",
       "      <td>Islington Avenue</td>\n",
       "      <td>43.667856</td>\n",
       "      <td>-79.532242</td>\n",
       "      <td>0</td>\n",
       "      <td>Pharmacy</td>\n",
       "      <td>Park</td>\n",
       "      <td>Bank</td>\n",
       "      <td>Playground</td>\n",
       "      <td>Grocery Store</td>\n",
       "      <td>Bakery</td>\n",
       "      <td>Convenience Store</td>\n",
       "      <td>Café</td>\n",
       "      <td>Bus Line</td>\n",
       "      <td>Supermarket</td>\n",
       "    </tr>\n",
       "    <tr>\n",
       "      <th>11</th>\n",
       "      <td>M9B</td>\n",
       "      <td>Etobicoke</td>\n",
       "      <td>West Deane Park, Princess Gardens, Martin Grov...</td>\n",
       "      <td>43.650943</td>\n",
       "      <td>-79.554724</td>\n",
       "      <td>0</td>\n",
       "      <td>Park</td>\n",
       "      <td>Hotel</td>\n",
       "      <td>Sandwich Place</td>\n",
       "      <td>Pharmacy</td>\n",
       "      <td>Farmers Market</td>\n",
       "      <td>Bank</td>\n",
       "      <td>Grocery Store</td>\n",
       "      <td>Gym</td>\n",
       "      <td>Gym / Fitness Center</td>\n",
       "      <td>Restaurant</td>\n",
       "    </tr>\n",
       "    <tr>\n",
       "      <th>12</th>\n",
       "      <td>M1C</td>\n",
       "      <td>Scarborough</td>\n",
       "      <td>Rouge Hill, Port Union, Highland Creek</td>\n",
       "      <td>43.784535</td>\n",
       "      <td>-79.160497</td>\n",
       "      <td>0</td>\n",
       "      <td>Hotel</td>\n",
       "      <td>Italian Restaurant</td>\n",
       "      <td>Burger Joint</td>\n",
       "      <td>Grocery Store</td>\n",
       "      <td>Gym</td>\n",
       "      <td>Gym / Fitness Center</td>\n",
       "      <td>Park</td>\n",
       "      <td>Breakfast Spot</td>\n",
       "      <td>Pizza Place</td>\n",
       "      <td>Cupcake Shop</td>\n",
       "    </tr>\n",
       "    <tr>\n",
       "      <th>28</th>\n",
       "      <td>M3H</td>\n",
       "      <td>North York</td>\n",
       "      <td>Bathurst Manor, Wilson Heights, Downsview North</td>\n",
       "      <td>43.754328</td>\n",
       "      <td>-79.442259</td>\n",
       "      <td>0</td>\n",
       "      <td>Park</td>\n",
       "      <td>Coffee Shop</td>\n",
       "      <td>Gas Station</td>\n",
       "      <td>Bank</td>\n",
       "      <td>Pizza Place</td>\n",
       "      <td>Baseball Field</td>\n",
       "      <td>Dog Run</td>\n",
       "      <td>Fried Chicken Joint</td>\n",
       "      <td>French Restaurant</td>\n",
       "      <td>Sushi Restaurant</td>\n",
       "    </tr>\n",
       "    <tr>\n",
       "      <th>39</th>\n",
       "      <td>M2K</td>\n",
       "      <td>North York</td>\n",
       "      <td>Bayview Village</td>\n",
       "      <td>43.786947</td>\n",
       "      <td>-79.385975</td>\n",
       "      <td>0</td>\n",
       "      <td>Park</td>\n",
       "      <td>Gas Station</td>\n",
       "      <td>Trail</td>\n",
       "      <td>Bank</td>\n",
       "      <td>Skating Rink</td>\n",
       "      <td>Playground</td>\n",
       "      <td>Café</td>\n",
       "      <td>Shopping Mall</td>\n",
       "      <td>Grocery Store</td>\n",
       "      <td>Chinese Restaurant</td>\n",
       "    </tr>\n",
       "    <tr>\n",
       "      <th>46</th>\n",
       "      <td>M3L</td>\n",
       "      <td>North York</td>\n",
       "      <td>DownsviewWest</td>\n",
       "      <td>43.739015</td>\n",
       "      <td>-79.506944</td>\n",
       "      <td>0</td>\n",
       "      <td>Park</td>\n",
       "      <td>Bank</td>\n",
       "      <td>Plaza</td>\n",
       "      <td>Tea Room</td>\n",
       "      <td>Pizza Place</td>\n",
       "      <td>Zoo</td>\n",
       "      <td>Event Space</td>\n",
       "      <td>Dumpling Restaurant</td>\n",
       "      <td>Eastern European Restaurant</td>\n",
       "      <td>Egyptian Restaurant</td>\n",
       "    </tr>\n",
       "    <tr>\n",
       "      <th>50</th>\n",
       "      <td>M9L</td>\n",
       "      <td>North York</td>\n",
       "      <td>Humber Summit</td>\n",
       "      <td>43.756303</td>\n",
       "      <td>-79.565963</td>\n",
       "      <td>0</td>\n",
       "      <td>Park</td>\n",
       "      <td>Vietnamese Restaurant</td>\n",
       "      <td>Electronics Store</td>\n",
       "      <td>Asian Restaurant</td>\n",
       "      <td>Bakery</td>\n",
       "      <td>Mexican Restaurant</td>\n",
       "      <td>Shopping Mall</td>\n",
       "      <td>Italian Restaurant</td>\n",
       "      <td>Skating Rink</td>\n",
       "      <td>Bank</td>\n",
       "    </tr>\n",
       "    <tr>\n",
       "      <th>51</th>\n",
       "      <td>M1M</td>\n",
       "      <td>Scarborough</td>\n",
       "      <td>Cliffside, Cliffcrest, Scarborough Village West</td>\n",
       "      <td>43.716316</td>\n",
       "      <td>-79.239476</td>\n",
       "      <td>0</td>\n",
       "      <td>Park</td>\n",
       "      <td>Harbor / Marina</td>\n",
       "      <td>Coffee Shop</td>\n",
       "      <td>Ice Cream Shop</td>\n",
       "      <td>Pizza Place</td>\n",
       "      <td>Pub</td>\n",
       "      <td>Sandwich Place</td>\n",
       "      <td>Fast Food Restaurant</td>\n",
       "      <td>Beach</td>\n",
       "      <td>Grocery Store</td>\n",
       "    </tr>\n",
       "    <tr>\n",
       "      <th>58</th>\n",
       "      <td>M1N</td>\n",
       "      <td>Scarborough</td>\n",
       "      <td>Birch Cliff, Cliffside West</td>\n",
       "      <td>43.692657</td>\n",
       "      <td>-79.264848</td>\n",
       "      <td>0</td>\n",
       "      <td>Park</td>\n",
       "      <td>Restaurant</td>\n",
       "      <td>General Entertainment</td>\n",
       "      <td>Golf Course</td>\n",
       "      <td>Café</td>\n",
       "      <td>Diner</td>\n",
       "      <td>Gym</td>\n",
       "      <td>Thai Restaurant</td>\n",
       "      <td>College Stadium</td>\n",
       "      <td>Filipino Restaurant</td>\n",
       "    </tr>\n",
       "    <tr>\n",
       "      <th>88</th>\n",
       "      <td>M8V</td>\n",
       "      <td>Etobicoke</td>\n",
       "      <td>New Toronto, Mimico South, Humber Bay Shores</td>\n",
       "      <td>43.605647</td>\n",
       "      <td>-79.501321</td>\n",
       "      <td>0</td>\n",
       "      <td>Park</td>\n",
       "      <td>Bakery</td>\n",
       "      <td>Grocery Store</td>\n",
       "      <td>Breakfast Spot</td>\n",
       "      <td>Café</td>\n",
       "      <td>Indian Restaurant</td>\n",
       "      <td>Beer Store</td>\n",
       "      <td>Thai Restaurant</td>\n",
       "      <td>Mexican Restaurant</td>\n",
       "      <td>Bar</td>\n",
       "    </tr>\n",
       "  </tbody>\n",
       "</table>\n",
       "</div>"
      ],
      "text/plain": [
       "   PostalCode      Borough                                       Neighborhood  \\\n",
       "5         M9A    Etobicoke                                   Islington Avenue   \n",
       "11        M9B    Etobicoke  West Deane Park, Princess Gardens, Martin Grov...   \n",
       "12        M1C  Scarborough             Rouge Hill, Port Union, Highland Creek   \n",
       "28        M3H   North York    Bathurst Manor, Wilson Heights, Downsview North   \n",
       "39        M2K   North York                                    Bayview Village   \n",
       "46        M3L   North York                                      DownsviewWest   \n",
       "50        M9L   North York                                      Humber Summit   \n",
       "51        M1M  Scarborough    Cliffside, Cliffcrest, Scarborough Village West   \n",
       "58        M1N  Scarborough                        Birch Cliff, Cliffside West   \n",
       "88        M8V    Etobicoke       New Toronto, Mimico South, Humber Bay Shores   \n",
       "\n",
       "     Latitude  Longitude  Cluster Labels 1st Most Common Venue  \\\n",
       "5   43.667856 -79.532242               0              Pharmacy   \n",
       "11  43.650943 -79.554724               0                  Park   \n",
       "12  43.784535 -79.160497               0                 Hotel   \n",
       "28  43.754328 -79.442259               0                  Park   \n",
       "39  43.786947 -79.385975               0                  Park   \n",
       "46  43.739015 -79.506944               0                  Park   \n",
       "50  43.756303 -79.565963               0                  Park   \n",
       "51  43.716316 -79.239476               0                  Park   \n",
       "58  43.692657 -79.264848               0                  Park   \n",
       "88  43.605647 -79.501321               0                  Park   \n",
       "\n",
       "    2nd Most Common Venue  3rd Most Common Venue 4th Most Common Venue  \\\n",
       "5                    Park                   Bank            Playground   \n",
       "11                  Hotel         Sandwich Place              Pharmacy   \n",
       "12     Italian Restaurant           Burger Joint         Grocery Store   \n",
       "28            Coffee Shop            Gas Station                  Bank   \n",
       "39            Gas Station                  Trail                  Bank   \n",
       "46                   Bank                  Plaza              Tea Room   \n",
       "50  Vietnamese Restaurant      Electronics Store      Asian Restaurant   \n",
       "51        Harbor / Marina            Coffee Shop        Ice Cream Shop   \n",
       "58             Restaurant  General Entertainment           Golf Course   \n",
       "88                 Bakery          Grocery Store        Breakfast Spot   \n",
       "\n",
       "   5th Most Common Venue 6th Most Common Venue 7th Most Common Venue  \\\n",
       "5          Grocery Store                Bakery     Convenience Store   \n",
       "11        Farmers Market                  Bank         Grocery Store   \n",
       "12                   Gym  Gym / Fitness Center                  Park   \n",
       "28           Pizza Place        Baseball Field               Dog Run   \n",
       "39          Skating Rink            Playground                  Café   \n",
       "46           Pizza Place                   Zoo           Event Space   \n",
       "50                Bakery    Mexican Restaurant         Shopping Mall   \n",
       "51           Pizza Place                   Pub        Sandwich Place   \n",
       "58                  Café                 Diner                   Gym   \n",
       "88                  Café     Indian Restaurant            Beer Store   \n",
       "\n",
       "   8th Most Common Venue        9th Most Common Venue 10th Most Common Venue  \n",
       "5                   Café                     Bus Line            Supermarket  \n",
       "11                   Gym         Gym / Fitness Center             Restaurant  \n",
       "12        Breakfast Spot                  Pizza Place           Cupcake Shop  \n",
       "28   Fried Chicken Joint            French Restaurant       Sushi Restaurant  \n",
       "39         Shopping Mall                Grocery Store     Chinese Restaurant  \n",
       "46   Dumpling Restaurant  Eastern European Restaurant    Egyptian Restaurant  \n",
       "50    Italian Restaurant                 Skating Rink                   Bank  \n",
       "51  Fast Food Restaurant                        Beach          Grocery Store  \n",
       "58       Thai Restaurant              College Stadium    Filipino Restaurant  \n",
       "88       Thai Restaurant           Mexican Restaurant                    Bar  "
      ]
     },
     "metadata": {},
     "output_type": "display_data"
    }
   ],
   "source": [
    "display(toronto_merged[toronto_merged['Cluster Labels'] == 0])"
   ]
  },
  {
   "cell_type": "markdown",
   "metadata": {},
   "source": [
    "Amazingly enough the most common venue of all of them has nothing at all to do with water (coast, ocean, lake, river...) but is a park!\n",
    "\n",
    "### Print Top 5 Most Common Venues per Cluster"
   ]
  },
  {
   "cell_type": "code",
   "execution_count": 105,
   "metadata": {
    "ExecuteTime": {
     "end_time": "2021-05-03T17:21:41.394831Z",
     "start_time": "2021-05-03T17:21:41.370012Z"
    }
   },
   "outputs": [
    {
     "name": "stdout",
     "output_type": "stream",
     "text": [
      "=========================================\n",
      "Cluster 2\n",
      "=========================================\n",
      "Coffee Shop           13\n",
      "Pharmacy               3\n",
      "Pizza Place            3\n",
      "Chinese Restaurant     3\n",
      "Clothing Store         2\n",
      "Name: 1st Most Common Venue, dtype: int64\n",
      " \n",
      "=========================================\n",
      "Cluster 1\n",
      "=========================================\n",
      "Coffee Shop           32\n",
      "Café                   5\n",
      "Park                   5\n",
      "Italian Restaurant     4\n",
      "Greek Restaurant       2\n",
      "Name: 1st Most Common Venue, dtype: int64\n",
      " \n",
      "=========================================\n",
      "Cluster 0\n",
      "=========================================\n",
      "Park        8\n",
      "Hotel       1\n",
      "Pharmacy    1\n",
      "Name: 1st Most Common Venue, dtype: int64\n",
      " \n",
      "=========================================\n",
      "Cluster 3\n",
      "=========================================\n",
      "Farm    1\n",
      "Name: 1st Most Common Venue, dtype: int64\n",
      " \n"
     ]
    }
   ],
   "source": [
    "for cluster in toronto_merged['Cluster Labels'].unique():\n",
    "    df_cluster = toronto_merged[toronto_merged['Cluster Labels'] == cluster]\n",
    "    print('=========================================',\n",
    "          'Cluster ' + str(cluster),\n",
    "          '=========================================',\n",
    "          df_cluster['1st Most Common Venue'].value_counts().head(),\n",
    "          ' ', sep='\\n')"
   ]
  },
  {
   "cell_type": "code",
   "execution_count": null,
   "metadata": {},
   "outputs": [],
   "source": []
  }
 ],
 "metadata": {
  "hide_input": false,
  "kernelspec": {
   "display_name": "Python 3",
   "language": "python",
   "name": "python3"
  },
  "language_info": {
   "codemirror_mode": {
    "name": "ipython",
    "version": 3
   },
   "file_extension": ".py",
   "mimetype": "text/x-python",
   "name": "python",
   "nbconvert_exporter": "python",
   "pygments_lexer": "ipython3",
   "version": "3.8.3"
  },
  "toc": {
   "base_numbering": 1,
   "nav_menu": {},
   "number_sections": true,
   "sideBar": true,
   "skip_h1_title": false,
   "title_cell": "Table of Contents",
   "title_sidebar": "Contents",
   "toc_cell": false,
   "toc_position": {},
   "toc_section_display": true,
   "toc_window_display": true
  },
  "varInspector": {
   "cols": {
    "lenName": 16,
    "lenType": 16,
    "lenVar": 40
   },
   "kernels_config": {
    "python": {
     "delete_cmd_postfix": "",
     "delete_cmd_prefix": "del ",
     "library": "var_list.py",
     "varRefreshCmd": "print(var_dic_list())"
    },
    "r": {
     "delete_cmd_postfix": ") ",
     "delete_cmd_prefix": "rm(",
     "library": "var_list.r",
     "varRefreshCmd": "cat(var_dic_list()) "
    }
   },
   "types_to_exclude": [
    "module",
    "function",
    "builtin_function_or_method",
    "instance",
    "_Feature"
   ],
   "window_display": false
  }
 },
 "nbformat": 4,
 "nbformat_minor": 4
}
